{
 "cells": [
  {
   "cell_type": "code",
   "execution_count": 14,
   "metadata": {},
   "outputs": [],
   "source": [
    "import librosa\n",
    "import librosa.display\n",
    "import numpy as np\n",
    "import acoustics\n",
    "import scipy"
   ]
  },
  {
   "cell_type": "code",
   "execution_count": 2,
   "metadata": {},
   "outputs": [],
   "source": [
    "from dataset import DataReader"
   ]
  },
  {
   "cell_type": "code",
   "execution_count": 3,
   "metadata": {},
   "outputs": [
    {
     "name": "stdout",
     "output_type": "stream",
     "text": [
      "generated/0.3/train/train_Torso_Acc_x.mmap exists, loading ...\n",
      "generated/0.3/train/train_Torso_Acc_y.mmap exists, loading ...\n",
      "generated/0.3/train/train_Torso_Acc_z.mmap exists, loading ...\n",
      "generated/0.3/train/train_Torso_Mag_x.mmap exists, loading ...\n",
      "generated/0.3/train/train_Torso_Mag_y.mmap exists, loading ...\n",
      "generated/0.3/train/train_Torso_Mag_z.mmap exists, loading ...\n",
      "generated/0.3/train/train_Torso_Pressure.mmap exists, loading ...\n",
      "generated/0.3/train/train_Torso_Acc_m.mmap exists, loading ...\n",
      "generated/0.3/train/train_Torso_Gyr_m.mmap exists, loading ...\n",
      "generated/0.3/train/train_Torso_Mag_m.mmap exists, loading ...\n",
      "generated/0.3/train/train_Torso_Ori_m.mmap exists, loading ...\n",
      "generated/0.3/train/train_Torso_Gra_m.mmap exists, loading ...\n",
      "generated/0.3/train/train_Torso_LAcc_m.mmap exists, loading ...\n",
      "generated/0.3/train/train_Hips_Acc_x.mmap exists, loading ...\n",
      "generated/0.3/train/train_Hips_Acc_y.mmap exists, loading ...\n",
      "generated/0.3/train/train_Hips_Acc_z.mmap exists, loading ...\n",
      "generated/0.3/train/train_Hips_Mag_x.mmap exists, loading ...\n",
      "generated/0.3/train/train_Hips_Mag_y.mmap exists, loading ...\n",
      "generated/0.3/train/train_Hips_Mag_z.mmap exists, loading ...\n",
      "generated/0.3/train/train_Hips_Pressure.mmap exists, loading ...\n",
      "generated/0.3/train/train_Hips_Acc_m.mmap exists, loading ...\n",
      "generated/0.3/train/train_Hips_Gyr_m.mmap exists, loading ...\n",
      "generated/0.3/train/train_Hips_Mag_m.mmap exists, loading ...\n",
      "generated/0.3/train/train_Hips_Ori_m.mmap exists, loading ...\n",
      "generated/0.3/train/train_Hips_Gra_m.mmap exists, loading ...\n",
      "generated/0.3/train/train_Hips_LAcc_m.mmap exists, loading ...\n",
      "generated/0.3/train/train_Bag_Acc_x.mmap exists, loading ...\n",
      "generated/0.3/train/train_Bag_Acc_y.mmap exists, loading ...\n",
      "generated/0.3/train/train_Bag_Acc_z.mmap exists, loading ...\n",
      "generated/0.3/train/train_Bag_Mag_x.mmap exists, loading ...\n",
      "generated/0.3/train/train_Bag_Mag_y.mmap exists, loading ...\n",
      "generated/0.3/train/train_Bag_Mag_z.mmap exists, loading ...\n",
      "generated/0.3/train/train_Bag_Pressure.mmap exists, loading ...\n",
      "generated/0.3/train/train_Bag_Acc_m.mmap exists, loading ...\n",
      "generated/0.3/train/train_Bag_Gyr_m.mmap exists, loading ...\n",
      "generated/0.3/train/train_Bag_Mag_m.mmap exists, loading ...\n",
      "generated/0.3/train/train_Bag_Ori_m.mmap exists, loading ...\n",
      "generated/0.3/train/train_Bag_Gra_m.mmap exists, loading ...\n",
      "generated/0.3/train/train_Bag_LAcc_m.mmap exists, loading ...\n",
      "generated/0.3/train/train_Hand_Acc_x.mmap exists, loading ...\n",
      "generated/0.3/train/train_Hand_Acc_y.mmap exists, loading ...\n",
      "generated/0.3/train/train_Hand_Acc_z.mmap exists, loading ...\n",
      "generated/0.3/train/train_Hand_Mag_x.mmap exists, loading ...\n",
      "generated/0.3/train/train_Hand_Mag_y.mmap exists, loading ...\n",
      "generated/0.3/train/train_Hand_Mag_z.mmap exists, loading ...\n",
      "generated/0.3/train/train_Hand_Pressure.mmap exists, loading ...\n",
      "generated/0.3/train/train_Hand_Acc_m.mmap exists, loading ...\n",
      "generated/0.3/train/train_Hand_Gyr_m.mmap exists, loading ...\n",
      "generated/0.3/train/train_Hand_Mag_m.mmap exists, loading ...\n",
      "generated/0.3/train/train_Hand_Ori_m.mmap exists, loading ...\n",
      "generated/0.3/train/train_Hand_Gra_m.mmap exists, loading ...\n",
      "generated/0.3/train/train_Hand_LAcc_m.mmap exists, loading ...\n",
      "generated/0.3/train/train_Label.mmap exists, loading ...\n",
      "generated/0.3/validation/validation_Torso_Acc_x.mmap exists, loading ...\n",
      "generated/0.3/validation/validation_Torso_Acc_y.mmap exists, loading ...\n",
      "generated/0.3/validation/validation_Torso_Acc_z.mmap exists, loading ...\n",
      "generated/0.3/validation/validation_Torso_Mag_x.mmap exists, loading ...\n",
      "generated/0.3/validation/validation_Torso_Mag_y.mmap exists, loading ...\n",
      "generated/0.3/validation/validation_Torso_Mag_z.mmap exists, loading ...\n",
      "generated/0.3/validation/validation_Torso_Pressure.mmap exists, loading ...\n",
      "generated/0.3/validation/validation_Torso_Acc_m.mmap exists, loading ...\n",
      "generated/0.3/validation/validation_Torso_Gyr_m.mmap exists, loading ...\n",
      "generated/0.3/validation/validation_Torso_Mag_m.mmap exists, loading ...\n",
      "generated/0.3/validation/validation_Torso_Ori_m.mmap exists, loading ...\n",
      "generated/0.3/validation/validation_Torso_Gra_m.mmap exists, loading ...\n",
      "generated/0.3/validation/validation_Torso_LAcc_m.mmap exists, loading ...\n",
      "generated/0.3/validation/validation_Hips_Acc_x.mmap exists, loading ...\n",
      "generated/0.3/validation/validation_Hips_Acc_y.mmap exists, loading ...\n",
      "generated/0.3/validation/validation_Hips_Acc_z.mmap exists, loading ...\n",
      "generated/0.3/validation/validation_Hips_Mag_x.mmap exists, loading ...\n",
      "generated/0.3/validation/validation_Hips_Mag_y.mmap exists, loading ...\n",
      "generated/0.3/validation/validation_Hips_Mag_z.mmap exists, loading ...\n",
      "generated/0.3/validation/validation_Hips_Pressure.mmap exists, loading ...\n",
      "generated/0.3/validation/validation_Hips_Acc_m.mmap exists, loading ...\n",
      "generated/0.3/validation/validation_Hips_Gyr_m.mmap exists, loading ...\n",
      "generated/0.3/validation/validation_Hips_Mag_m.mmap exists, loading ...\n",
      "generated/0.3/validation/validation_Hips_Ori_m.mmap exists, loading ...\n",
      "generated/0.3/validation/validation_Hips_Gra_m.mmap exists, loading ...\n",
      "generated/0.3/validation/validation_Hips_LAcc_m.mmap exists, loading ...\n",
      "generated/0.3/validation/validation_Bag_Acc_x.mmap exists, loading ...\n",
      "generated/0.3/validation/validation_Bag_Acc_y.mmap exists, loading ...\n",
      "generated/0.3/validation/validation_Bag_Acc_z.mmap exists, loading ...\n",
      "generated/0.3/validation/validation_Bag_Mag_x.mmap exists, loading ...\n",
      "generated/0.3/validation/validation_Bag_Mag_y.mmap exists, loading ...\n",
      "generated/0.3/validation/validation_Bag_Mag_z.mmap exists, loading ...\n",
      "generated/0.3/validation/validation_Bag_Pressure.mmap exists, loading ...\n",
      "generated/0.3/validation/validation_Bag_Acc_m.mmap exists, loading ...\n",
      "generated/0.3/validation/validation_Bag_Gyr_m.mmap exists, loading ...\n",
      "generated/0.3/validation/validation_Bag_Mag_m.mmap exists, loading ...\n",
      "generated/0.3/validation/validation_Bag_Ori_m.mmap exists, loading ...\n",
      "generated/0.3/validation/validation_Bag_Gra_m.mmap exists, loading ...\n",
      "generated/0.3/validation/validation_Bag_LAcc_m.mmap exists, loading ...\n",
      "generated/0.3/validation/validation_Hand_Acc_x.mmap exists, loading ...\n",
      "generated/0.3/validation/validation_Hand_Acc_y.mmap exists, loading ...\n",
      "generated/0.3/validation/validation_Hand_Acc_z.mmap exists, loading ...\n",
      "generated/0.3/validation/validation_Hand_Mag_x.mmap exists, loading ...\n",
      "generated/0.3/validation/validation_Hand_Mag_y.mmap exists, loading ...\n",
      "generated/0.3/validation/validation_Hand_Mag_z.mmap exists, loading ...\n",
      "generated/0.3/validation/validation_Hand_Pressure.mmap exists, loading ...\n",
      "generated/0.3/validation/validation_Hand_Acc_m.mmap exists, loading ...\n",
      "generated/0.3/validation/validation_Hand_Gyr_m.mmap exists, loading ...\n",
      "generated/0.3/validation/validation_Hand_Mag_m.mmap exists, loading ...\n",
      "generated/0.3/validation/validation_Hand_Ori_m.mmap exists, loading ...\n",
      "generated/0.3/validation/validation_Hand_Gra_m.mmap exists, loading ...\n",
      "generated/0.3/validation/validation_Hand_LAcc_m.mmap exists, loading ...\n",
      "generated/0.3/validation/validation_Label.mmap exists, loading ...\n",
      "generated/0.3/test_Acc_x.mmap exists, loading ...\n",
      "generated/0.3/test_Acc_y.mmap exists, loading ...\n",
      "generated/0.3/test_Acc_z.mmap exists, loading ...\n",
      "generated/0.3/test_Mag_x.mmap exists, loading ...\n",
      "generated/0.3/test_Mag_y.mmap exists, loading ...\n",
      "generated/0.3/test_Mag_z.mmap exists, loading ...\n",
      "generated/0.3/test_Pressure.mmap exists, loading ...\n",
      "generated/0.3/test_Acc_m.mmap exists, loading ...\n",
      "generated/0.3/test_Gyr_m.mmap exists, loading ...\n",
      "generated/0.3/test_Mag_m.mmap exists, loading ...\n",
      "generated/0.3/test_Ori_m.mmap exists, loading ...\n",
      "generated/0.3/test_Gra_m.mmap exists, loading ...\n",
      "generated/0.3/test_LAcc_m.mmap exists, loading ...\n"
     ]
    }
   ],
   "source": [
    "train = DataReader(what='train')\n",
    "validation = DataReader(what='validation')\n",
    "test = DataReader(what='test')"
   ]
  },
  {
   "cell_type": "code",
   "execution_count": 5,
   "metadata": {},
   "outputs": [
    {
     "name": "stdout",
     "output_type": "stream",
     "text": [
      "(196072, 500)\n"
     ]
    }
   ],
   "source": [
    "print(train.X['Hips']['Acc_x'].shape)"
   ]
  },
  {
   "cell_type": "code",
   "execution_count": 6,
   "metadata": {},
   "outputs": [],
   "source": [
    "import matplotlib\n",
    "import matplotlib.pyplot as plt"
   ]
  },
  {
   "cell_type": "code",
   "execution_count": 7,
   "metadata": {},
   "outputs": [
    {
     "data": {
      "text/plain": [
       "[<matplotlib.lines.Line2D at 0x15127e2ea760>]"
      ]
     },
     "execution_count": 7,
     "metadata": {},
     "output_type": "execute_result"
    },
    {
     "data": {
      "image/png": "[encoded data removed]",
      "text/plain": [
       "<Figure size 432x288 with 1 Axes>"
      ]
     },
     "metadata": {
      "needs_background": "light"
     },
     "output_type": "display_data"
    }
   ],
   "source": [
    "plt.plot(train.X['Hips']['Acc_x'][1])"
   ]
  },
  {
   "cell_type": "code",
   "execution_count": 8,
   "metadata": {},
   "outputs": [
    {
     "data": {
      "image/png": "[encoded data removed]",
      "text/plain": [
       "<Figure size 432x288 with 1 Axes>"
      ]
     },
     "metadata": {
      "needs_background": "light"
     },
     "output_type": "display_data"
    },
    {
     "data": {
      "text/plain": [
       "<matplotlib.axes._subplots.AxesSubplot at 0x15127e2796d0>"
      ]
     },
     "execution_count": 8,
     "metadata": {},
     "output_type": "execute_result"
    },
    {
     "data": {
      "image/png": "[encoded data removed]",
      "text/plain": [
       "<Figure size 432x288 with 1 Axes>"
      ]
     },
     "metadata": {
      "needs_background": "light"
     },
     "output_type": "display_data"
    }
   ],
   "source": [
    "D = np.abs(librosa.core.stft(train.X['Hips']['Acc_x'][1]))\n",
    "plt.plot(D)\n",
    "plt.show()\n",
    "librosa.display.specshow(librosa.amplitude_to_db(D, ref=np.max),y_axis='log', x_axis='time')"
   ]
  },
  {
   "cell_type": "code",
   "execution_count": 9,
   "metadata": {},
   "outputs": [
    {
     "name": "stdout",
     "output_type": "stream",
     "text": [
      "(250,)\n"
     ]
    },
    {
     "data": {
      "image/png": "[encoded data removed]",
      "text/plain": [
       "<Figure size 432x288 with 1 Axes>"
      ]
     },
     "metadata": {
      "needs_background": "light"
     },
     "output_type": "display_data"
    }
   ],
   "source": [
    "spectrum = acoustics.signal.power_spectrum(train.X['Hips']['Acc_x'][1], fs=100, N=500)  # N=500 number of FFT bins\n",
    "plt.plot(spectrum[1])\n",
    "print(spectrum[1].shape)"
   ]
  },
  {
   "cell_type": "markdown",
   "metadata": {},
   "source": [
    "## Highest magnitude of the fft window:"
   ]
  },
  {
   "cell_type": "code",
   "execution_count": 10,
   "metadata": {},
   "outputs": [
    {
     "data": {
      "text/plain": [
       "13.569549"
      ]
     },
     "execution_count": 10,
     "metadata": {},
     "output_type": "execute_result"
    }
   ],
   "source": [
    "np.max(D)"
   ]
  },
  {
   "cell_type": "markdown",
   "metadata": {},
   "source": [
    "## frequency where the highest magnitude magnitude is located"
   ]
  },
  {
   "cell_type": "code",
   "execution_count": 15,
   "metadata": {},
   "outputs": [
    {
     "data": {
      "text/plain": [
       "(array([   2,    6,   10,   18,   23,   27,   31,   33,   41,   47,   51,\n",
       "          55,   58,   60,   64,   66,   70,   78,   80,   86,   91,   94,\n",
       "          97,  106,  111,  113,  117,  119,  125,  127,  137,  146,  150,\n",
       "         154,  156,  160,  164,  168,  173,  179,  185,  187,  191,  193,\n",
       "         195,  199,  201,  203,  209,  215,  220,  223,  226,  228,  232,\n",
       "         234,  240,  242,  248,  250,  252,  255,  257,  260,  263,  267,\n",
       "         271,  273,  275,  279,  283,  287,  289,  295,  298,  301,  304,\n",
       "         306,  310,  312,  314,  318,  320,  322,  326,  328,  334,  339,\n",
       "         343,  347,  351,  353,  357,  363,  369,  372,  375,  378,  384,\n",
       "         386,  396,  398,  400,  404,  408,  411,  417,  421,  423,  427,\n",
       "         433,  437,  439,  443,  449,  452,  455,  458,  460,  466,  468,\n",
       "         472,  474,  476,  478,  482,  486,  490,  495,  499,  505,  509,\n",
       "         517,  523,  529,  535,  538,  540,  544,  548,  550,  552,  554,\n",
       "         558,  562,  566,  570,  573,  577,  583,  585,  589,  593,  597,\n",
       "         603,  608,  614,  618,  620,  622,  624,  628,  632,  638,  642,\n",
       "         645,  648,  653,  655,  659,  661,  665,  667,  669,  675,  677,\n",
       "         681,  683,  687,  691,  694,  700,  708,  712,  716,  720,  724,\n",
       "         728,  731,  739,  741,  745,  749,  751,  757,  763,  767,  770,\n",
       "         774,  778,  784,  786,  790,  796,  800,  805,  811,  815,  817,\n",
       "         821,  829,  835,  837,  840,  844,  853,  860,  866,  868,  874,\n",
       "         878,  880,  885,  889,  893,  897,  899,  901,  903,  907,  913,\n",
       "         916,  923,  926,  936,  940,  944,  950,  952,  956,  960,  967,\n",
       "         971,  975,  979,  983,  987,  991,  995,  999, 1002, 1005, 1010,\n",
       "        1018, 1022]),\n",
       " {})"
      ]
     },
     "execution_count": 15,
     "metadata": {},
     "output_type": "execute_result"
    }
   ],
   "source": [
    "np.argmax(D)\n",
    "scipy.signal.find_peaks(D[:, 0])"
   ]
  },
  {
   "cell_type": "markdown",
   "metadata": {},
   "source": [
    "## spectral entropy of the fft window"
   ]
  },
  {
   "cell_type": "code",
   "execution_count": 16,
   "metadata": {},
   "outputs": [
    {
     "data": {
      "text/plain": [
       "3.0825685807796916"
      ]
     },
     "execution_count": 16,
     "metadata": {},
     "output_type": "execute_result"
    }
   ],
   "source": [
    "scipy.stats.entropy(spectrum[1])"
   ]
  },
  {
   "cell_type": "markdown",
   "metadata": {},
   "source": [
    "## Spectral Contrast"
   ]
  },
  {
   "cell_type": "code",
   "execution_count": 17,
   "metadata": {},
   "outputs": [
    {
     "data": {
      "text/plain": [
       "array([[20.93568013],\n",
       "       [29.75647583],\n",
       "       [23.74756844],\n",
       "       [25.75159717],\n",
       "       [22.63533204]])"
      ]
     },
     "execution_count": 17,
     "metadata": {},
     "output_type": "execute_result"
    }
   ],
   "source": [
    "librosa.feature.spectral_contrast(train.X['Hips']['Acc_x'][1], sr=100, fmin=5, n_bands=4)"
   ]
  },
  {
   "cell_type": "code",
   "execution_count": 18,
   "metadata": {},
   "outputs": [
    {
     "data": {
      "text/plain": [
       "array([[27.23871884],\n",
       "       [23.86155251],\n",
       "       [24.84215462],\n",
       "       [30.06901129],\n",
       "       [25.94624499]])"
      ]
     },
     "execution_count": 18,
     "metadata": {},
     "output_type": "execute_result"
    }
   ],
   "source": [
    "librosa.feature.spectral_contrast(train.X['Hips']['Acc_x'][2], sr=100, fmin=5, n_bands=4)"
   ]
  },
  {
   "cell_type": "markdown",
   "metadata": {},
   "source": [
    "## Sub-Band Energy (10 sub-bands of 5Hz/bin each)"
   ]
  },
  {
   "cell_type": "code",
   "execution_count": 19,
   "metadata": {},
   "outputs": [],
   "source": [
    "def subBandEnergy(spectrum):\n",
    "    sb_energy = []\n",
    "    for band in np.array_split(spectrum, 10):\n",
    "        sb_energy.append(band.sum())\n",
    "    return np.array(sb_energy)"
   ]
  },
  {
   "cell_type": "markdown",
   "metadata": {},
   "source": [
    "## Total Energy of the FFT Window"
   ]
  },
  {
   "cell_type": "code",
   "execution_count": 20,
   "metadata": {},
   "outputs": [
    {
     "name": "stdout",
     "output_type": "stream",
     "text": [
      "(1025, 1)\n"
     ]
    },
    {
     "data": {
      "text/plain": [
       "460.42093"
      ]
     },
     "execution_count": 20,
     "metadata": {},
     "output_type": "execute_result"
    }
   ],
   "source": [
    "print(D.shape)\n",
    "D.sum()"
   ]
  },
  {
   "cell_type": "markdown",
   "metadata": {},
   "source": [
    "## Sub-Band Energy Ratio (relative to the total energy of the FFT window)"
   ]
  },
  {
   "cell_type": "code",
   "execution_count": 30,
   "metadata": {},
   "outputs": [],
   "source": [
    "# compute sub-bands\n",
    "#bands = acoustics.bands.octave(2.5, 47.5)  # 0Hz--2.5--5Hz-- ... --45Hz--47.5--50Hz (10 bands of 5Hz each)\n",
    "#print(bands)\n",
    "def subBandEnergyRatio(sbEnergy, spectrumEnergy):\n",
    "    #spectrum_energy = spectrum.sum()\n",
    "    sb_energy_ratio = []\n",
    "    for sb in sbEnergy:\n",
    "        sb_energy_ratio.append(sb/spectrumEnergy)\n",
    "    return np.array(sb_energy_ratio)"
   ]
  },
  {
   "cell_type": "markdown",
   "metadata": {},
   "source": [
    "## Sub-Band Spectral Entropy"
   ]
  },
  {
   "cell_type": "code",
   "execution_count": 22,
   "metadata": {},
   "outputs": [],
   "source": [
    "def subBandSpectralEntropy(spectum):\n",
    "    sb_spectral_entropy = []\n",
    "    for band in np.array_split(spectrum, 10):\n",
    "        #print(band)\n",
    "        sb_spectral_entropy.append(scipy.stats.entropy(band))\n",
    "    return np.array(sb_spectral_entropy)"
   ]
  },
  {
   "cell_type": "markdown",
   "metadata": {},
   "source": [
    "## Cepstral Coefficients"
   ]
  },
  {
   "cell_type": "code",
   "execution_count": 43,
   "metadata": {},
   "outputs": [
    {
     "name": "stdout",
     "output_type": "stream",
     "text": [
      "[ 0.94860549  0.41198618  0.17123019  0.08262337  0.00114495  0.01636228\n",
      "  0.05535528  0.00553388 -0.03623976 -0.01298434  0.018038    0.00366619\n",
      "  0.00553515 -0.00432999 -0.00695939 -0.03380898 -0.03883254 -0.03570271\n",
      " -0.00527599  0.06512559]\n",
      "(500,)\n"
     ]
    },
    {
     "data": {
      "image/png": "[encoded data removed]",
      "text/plain": [
       "<Figure size 432x288 with 1 Axes>"
      ]
     },
     "metadata": {
      "needs_background": "light"
     },
     "output_type": "display_data"
    }
   ],
   "source": [
    "plt.plot(acoustics.cepstrum.real_cepstrum(train.X['Hips']['Acc_x'][1]))\n",
    "plt.plot(np.abs(np.fft.fft(train.X['Hips']['Acc_x'][1])))\n",
    "\n",
    "ceps = acoustics.cepstrum.real_cepstrum(train.X['Hips']['Acc_x'][1])\n",
    "print(ceps[1:21])\n",
    "print(ceps.shape)\n",
    "\n",
    "def cepstralCoefficients(x):\n",
    "    ceps = acoustics.cepstrum.real_cepstrum(x)\n",
    "    return ceps"
   ]
  },
  {
   "cell_type": "markdown",
   "metadata": {},
   "source": [
    "## first order difference of the cepstrum coefficients"
   ]
  },
  {
   "cell_type": "code",
   "execution_count": 25,
   "metadata": {},
   "outputs": [],
   "source": [
    "def firstOrderDifference(ceps):\n",
    "    #print(ceps.shape)\n",
    "    #print(np.diff(ceps).shape)\n",
    "    return np.diff(ceps)"
   ]
  },
  {
   "cell_type": "markdown",
   "metadata": {},
   "source": [
    "## MFCC"
   ]
  },
  {
   "cell_type": "code",
   "execution_count": 26,
   "metadata": {},
   "outputs": [
    {
     "data": {
      "text/plain": [
       "array([[-6.1259674e+01],\n",
       "       [ 1.3941342e+02],\n",
       "       [ 5.5483559e+01],\n",
       "       [ 2.5308743e+01],\n",
       "       [ 1.1043497e+01],\n",
       "       [ 1.9019841e+00],\n",
       "       [ 7.9321346e+00],\n",
       "       [ 2.7227845e+00],\n",
       "       [-1.2521446e-02],\n",
       "       [-2.0546727e+00],\n",
       "       [-3.2798367e+00],\n",
       "       [ 4.0511799e+00],\n",
       "       [-2.9538214e-02],\n",
       "       [ 2.4178205e+00],\n",
       "       [ 3.4023213e+00],\n",
       "       [-6.5195775e+00],\n",
       "       [-6.1365871e+00],\n",
       "       [-3.0920472e+00],\n",
       "       [-2.6282387e+00],\n",
       "       [-1.3191388e+00]], dtype=float32)"
      ]
     },
     "execution_count": 26,
     "metadata": {},
     "output_type": "execute_result"
    }
   ],
   "source": [
    "librosa.feature.mfcc(train.X['Hips']['Acc_x'][1], sr=100)"
   ]
  },
  {
   "cell_type": "markdown",
   "metadata": {},
   "source": [
    "## All in all"
   ]
  },
  {
   "cell_type": "markdown",
   "metadata": {},
   "source": [
    "### Magnetometer Spectrum Features"
   ]
  },
  {
   "cell_type": "code",
   "execution_count": 33,
   "metadata": {},
   "outputs": [],
   "source": [
    "Mag_features = np.zeros((73,))  # 74 in the original paper but firstOrderDifference returns #ceps-1\n",
    "\n",
    "x = train.X['Hips']['Mag_x'][1]\n",
    "y = train.X['Hips']['Mag_y'][1]\n",
    "z = train.X['Hips']['Mag_z'][1]\n",
    "\n",
    "spectrum_x = acoustics.signal.power_spectrum(x, fs=100, N=500)[1]  # N=500 number of FFT bins\n",
    "spectrum_y = acoustics.signal.power_spectrum(y, fs=100, N=500)[1]  # N=500 number of FFT bins\n",
    "spectrum_z = acoustics.signal.power_spectrum(z, fs=100, N=500)[1]  # N=500 number of FFT bins\n",
    "\n",
    "spectrum = spectrum_x # + spectrum_y + spectrum_z\n",
    "\n",
    "Mag_features[0] = np.max(spectrum)  #1\n",
    "Mag_features[1] = np.argmax(spectrum)  #2\n",
    "Mag_features[2] = scipy.stats.entropy(spectrum)  #3\n",
    "spectrumEnergy = spectrum.sum()\n",
    "Mag_features[3] = spectrumEnergy  #4\n",
    "\n",
    "sbEnergy = subBandEnergy(spectrum)\n",
    "Mag_features[4:14] = sbEnergy  #5~14\n",
    "\n",
    "sbEnergyRatio = subBandEnergyRatio(sbEnergy, spectrumEnergy)\n",
    "Mag_features[14:24] = sbEnergyRatio  #15~24\n",
    "\n",
    "Mag_features[24:34] = subBandSpectralEntropy(spectrum)  #25~34\n",
    "\n",
    "ceps = cepstralCoefficients(x)[1:21]\n",
    "Mag_features[34:54] = ceps  #35~54\n",
    "\n",
    "Mag_features[54:73] = firstOrderDifference(ceps)  #55~74"
   ]
  },
  {
   "cell_type": "code",
   "execution_count": 35,
   "metadata": {},
   "outputs": [
    {
     "data": {
      "text/plain": [
       "(73,)"
      ]
     },
     "execution_count": 35,
     "metadata": {},
     "output_type": "execute_result"
    }
   ],
   "source": [
    "Mag_features.shape"
   ]
  },
  {
   "cell_type": "code",
   "execution_count": 36,
   "metadata": {},
   "outputs": [
    {
     "name": "stdout",
     "output_type": "stream",
     "text": [
      "[ 1.94665340e-03  0.00000000e+00  1.45184498e-01  1.99999998e-03\n",
      "  1.99967298e-03  2.34698394e-07  6.77829181e-08  7.52160672e-09\n",
      "  3.34803933e-09  6.58629262e-09  5.28280865e-09  8.38596061e-10\n",
      "  4.56798549e-10  4.86868675e-10  9.99836499e-01  1.17349198e-04\n",
      "  3.38914593e-05  3.76080339e-06  1.67401968e-06  3.29314633e-06\n",
      "  2.64140435e-06  4.19298034e-07  2.28399276e-07  2.43434339e-07\n",
      "  1.43021806e-01  2.77303181e+00  2.77322399e+00  2.76961043e+00\n",
      "  2.68587957e+00  2.82726100e+00  2.77076634e+00  2.99134417e+00\n",
      "  3.03053950e+00  2.98857123e+00  8.40264026e-01  2.73188512e-01\n",
      "  3.17028218e-01  1.27700873e-01 -5.43256948e-02  8.03789804e-02\n",
      "  1.59257283e-01  9.94974969e-02  7.52241808e-02  4.73324942e-02\n",
      "  4.45132034e-02  5.06639940e-02  7.29227175e-02  7.00178167e-02\n",
      "  2.77992395e-02  9.38758617e-02  5.74469414e-02  1.90991024e-02\n",
      "  5.39424189e-02  5.26562927e-02 -5.67075514e-01  4.38397068e-02\n",
      " -1.89327345e-01 -1.82026568e-01  1.34704675e-01  7.88783030e-02\n",
      " -5.97597865e-02 -2.42733161e-02 -2.78916866e-02 -2.81929080e-03\n",
      "  6.15079058e-03  2.22587235e-02 -2.90490078e-03 -4.22185772e-02\n",
      "  6.60766223e-02 -3.64289203e-02 -3.83478390e-02  3.48433164e-02\n",
      " -1.28612616e-03]\n"
     ]
    }
   ],
   "source": [
    "print(Mag_features)"
   ]
  },
  {
   "cell_type": "markdown",
   "metadata": {},
   "source": [
    "### Accelerometer Spectrum Features"
   ]
  },
  {
   "cell_type": "code",
   "execution_count": 37,
   "metadata": {},
   "outputs": [],
   "source": [
    "Acc_x_features = np.zeros((60,))  # 64 in the original paper but firstOrderDifference returns #ceps-1 and energy of the 1Hz is not included here\n",
    "\n",
    "x = train.X['Hips']['Acc_x'][1]\n",
    "\n",
    "spectrum_x = acoustics.signal.power_spectrum(x, fs=100, N=500)[1]  # N=500 number of FFT bins\n",
    "\n",
    "spectrum = spectrum_x\n",
    "\n",
    "\n",
    "\n",
    "spectrumEnergy = spectrum.sum()\n",
    "Acc_x_features[0] = spectrumEnergy  #1\n",
    "\n",
    "#energy of the 1Hz component (not computed) #2\n",
    "\n",
    "sbEnergy = subBandEnergy(spectrum)\n",
    "Acc_x_features[1:11] = sbEnergy  #3~12\n",
    "\n",
    "sbEnergyRatio = subBandEnergyRatio(sbEnergy, spectrumEnergy)\n",
    "Acc_x_features[11:21] = sbEnergyRatio  #13~22\n",
    "\n",
    "ceps = cepstralCoefficients(x)[1:21]\n",
    "Acc_x_features[21:41] = ceps  #23~42\n",
    "\n",
    "Acc_x_features[41:60] = firstOrderDifference(ceps)  #43~62"
   ]
  },
  {
   "cell_type": "code",
   "execution_count": 38,
   "metadata": {},
   "outputs": [],
   "source": [
    "Acc_y_features = np.zeros((60,))  # 64 in the original paper but firstOrderDifference returns #ceps-1 and energy of the 1Hz is not included here\n",
    "\n",
    "y = train.X['Hips']['Acc_y'][1]\n",
    "\n",
    "spectrum_y = acoustics.signal.power_spectrum(y, fs=100, N=500)[1]  # N=500 number of FFT bins\n",
    "\n",
    "spectrum = spectrum_y\n",
    "\n",
    "\n",
    "\n",
    "spectrumEnergy = spectrum.sum()\n",
    "Acc_y_features[0] = spectrumEnergy  #1\n",
    "\n",
    "#energy of the 1Hz component (not computed) #2\n",
    "\n",
    "sbEnergy = subBandEnergy(spectrum)\n",
    "Acc_y_features[1:11] = sbEnergy  #3~12\n",
    "\n",
    "sbEnergyRatio = subBandEnergyRatio(sbEnergy, spectrumEnergy)\n",
    "Acc_y_features[11:21] = sbEnergyRatio  #13~22\n",
    "\n",
    "ceps = cepstralCoefficients(x)[1:21]\n",
    "Acc_y_features[21:41] = ceps  #23~42\n",
    "\n",
    "Acc_y_features[41:60] = firstOrderDifference(ceps)  #43~62"
   ]
  },
  {
   "cell_type": "code",
   "execution_count": 39,
   "metadata": {},
   "outputs": [],
   "source": [
    "Acc_z_features = np.zeros((60,))  # 64 in the original paper but firstOrderDifference returns #ceps-1 and energy of the 1Hz is not included here\n",
    "\n",
    "z = train.X['Hips']['Acc_z'][1]\n",
    "\n",
    "spectrum_z = acoustics.signal.power_spectrum(z, fs=100, N=500)[1]  # N=500 number of FFT bins\n",
    "\n",
    "spectrum = spectrum_z\n",
    "\n",
    "\n",
    "\n",
    "spectrumEnergy = spectrum.sum()\n",
    "Acc_z_features[0] = spectrumEnergy  #1\n",
    "\n",
    "#energy of the 1Hz component (not computed) #2\n",
    "\n",
    "sbEnergy = subBandEnergy(spectrum)\n",
    "Acc_z_features[1:11] = sbEnergy  #3~12\n",
    "\n",
    "sbEnergyRatio = subBandEnergyRatio(sbEnergy, spectrumEnergy)\n",
    "Acc_z_features[11:21] = sbEnergyRatio  #13~22\n",
    "\n",
    "ceps = cepstralCoefficients(x)[1:21]\n",
    "Acc_z_features[21:41] = ceps  #23~42\n",
    "\n",
    "Acc_z_features[41:60] = firstOrderDifference(ceps)  #43~62"
   ]
  },
  {
   "cell_type": "code",
   "execution_count": 40,
   "metadata": {},
   "outputs": [
    {
     "name": "stdout",
     "output_type": "stream",
     "text": [
      "[ 1.99999537e-03  1.76262333e-03  2.10841551e-04  1.83991149e-05\n",
      "  5.37846806e-06  1.06292897e-06  6.22137004e-07  3.36884885e-07\n",
      "  2.97578763e-07  2.28938963e-07  2.04435221e-07  8.81313706e-01\n",
      "  1.05421020e-01  9.19957877e-03  2.68924026e-03  5.31465714e-04\n",
      "  3.11069223e-04  1.68442833e-04  1.48789726e-04  1.14469747e-04\n",
      "  1.02217847e-04  9.48605492e-01  4.11986181e-01  1.71230193e-01\n",
      "  8.26233698e-02  1.14494846e-03  1.63622780e-02  5.53552845e-02\n",
      "  5.53388076e-03 -3.62397593e-02 -1.29843422e-02  1.80379981e-02\n",
      "  3.66618872e-03  5.53514986e-03 -4.32999094e-03 -6.95939144e-03\n",
      " -3.38089831e-02 -3.88325447e-02 -3.57027085e-02 -5.27598509e-03\n",
      "  6.51255921e-02 -5.36619311e-01 -2.40755988e-01 -8.86068234e-02\n",
      " -8.14784214e-02  1.52173296e-02  3.89930065e-02 -4.98214038e-02\n",
      " -4.17736401e-02  2.32554171e-02  3.10223403e-02 -1.43718094e-02\n",
      "  1.86896114e-03 -9.86514080e-03 -2.62940050e-03 -2.68495916e-02\n",
      " -5.02356157e-03  3.12983615e-03  3.04267234e-02  7.04015772e-02]\n"
     ]
    }
   ],
   "source": [
    "print(Acc_x_features)"
   ]
  },
  {
   "cell_type": "code",
   "execution_count": 41,
   "metadata": {},
   "outputs": [
    {
     "name": "stdout",
     "output_type": "stream",
     "text": [
      "[ 1.99999980e-03  1.99695833e-03  1.85852830e-06  9.02649087e-07\n",
      "  1.58612909e-07  4.61034512e-08  2.65183559e-08  1.65014118e-08\n",
      "  1.12249555e-08  1.14038658e-08  9.92472515e-09  9.98479266e-01\n",
      "  9.29264244e-04  4.51324589e-04  7.93064626e-05  2.30517279e-05\n",
      "  1.32591793e-05  8.25070675e-06  5.61247833e-06  5.70193347e-06\n",
      "  4.96236308e-06  9.48605492e-01  4.11986181e-01  1.71230193e-01\n",
      "  8.26233698e-02  1.14494846e-03  1.63622780e-02  5.53552845e-02\n",
      "  5.53388076e-03 -3.62397593e-02 -1.29843422e-02  1.80379981e-02\n",
      "  3.66618872e-03  5.53514986e-03 -4.32999094e-03 -6.95939144e-03\n",
      " -3.38089831e-02 -3.88325447e-02 -3.57027085e-02 -5.27598509e-03\n",
      "  6.51255921e-02 -5.36619311e-01 -2.40755988e-01 -8.86068234e-02\n",
      " -8.14784214e-02  1.52173296e-02  3.89930065e-02 -4.98214038e-02\n",
      " -4.17736401e-02  2.32554171e-02  3.10223403e-02 -1.43718094e-02\n",
      "  1.86896114e-03 -9.86514080e-03 -2.62940050e-03 -2.68495916e-02\n",
      " -5.02356157e-03  3.12983615e-03  3.04267234e-02  7.04015772e-02]\n"
     ]
    }
   ],
   "source": [
    "print(Acc_y_features)"
   ]
  },
  {
   "cell_type": "code",
   "execution_count": 42,
   "metadata": {},
   "outputs": [
    {
     "name": "stdout",
     "output_type": "stream",
     "text": [
      "[ 1.99999253e-03  1.61799762e-03  3.12367939e-04  5.41659285e-05\n",
      "  9.51752274e-06  2.94668073e-06  9.79604703e-07  7.09571111e-07\n",
      "  7.44601649e-07  2.92554200e-07  2.70513165e-07  8.09001829e-01\n",
      "  1.56184553e-01  2.70830653e-02  4.75877914e-03  1.47334587e-03\n",
      "  4.89804180e-04  3.54786880e-04  3.72302214e-04  1.46277646e-04\n",
      "  1.35257087e-04  9.48605492e-01  4.11986181e-01  1.71230193e-01\n",
      "  8.26233698e-02  1.14494846e-03  1.63622780e-02  5.53552845e-02\n",
      "  5.53388076e-03 -3.62397593e-02 -1.29843422e-02  1.80379981e-02\n",
      "  3.66618872e-03  5.53514986e-03 -4.32999094e-03 -6.95939144e-03\n",
      " -3.38089831e-02 -3.88325447e-02 -3.57027085e-02 -5.27598509e-03\n",
      "  6.51255921e-02 -5.36619311e-01 -2.40755988e-01 -8.86068234e-02\n",
      " -8.14784214e-02  1.52173296e-02  3.89930065e-02 -4.98214038e-02\n",
      " -4.17736401e-02  2.32554171e-02  3.10223403e-02 -1.43718094e-02\n",
      "  1.86896114e-03 -9.86514080e-03 -2.62940050e-03 -2.68495916e-02\n",
      " -5.02356157e-03  3.12983615e-03  3.04267234e-02  7.04015772e-02]\n"
     ]
    }
   ],
   "source": [
    "print(Acc_z_features)"
   ]
  },
  {
   "cell_type": "code",
   "execution_count": null,
   "metadata": {},
   "outputs": [],
   "source": []
  },
  {
   "cell_type": "code",
   "execution_count": null,
   "metadata": {},
   "outputs": [],
   "source": []
  },
  {
   "cell_type": "code",
   "execution_count": 1,
   "metadata": {},
   "outputs": [
    {
     "name": "stdout",
     "output_type": "stream",
     "text": [
      "generated/0.5/validation/validation_Torso_Acc_x.mmap exists, loading ...\n",
      "generated/0.5/validation/validation_Torso_Acc_y.mmap exists, loading ...\n",
      "generated/0.5/validation/validation_Torso_Acc_z.mmap exists, loading ...\n",
      "generated/0.5/validation/validation_Torso_Gyr_x.mmap exists, loading ...\n",
      "generated/0.5/validation/validation_Torso_Gyr_y.mmap exists, loading ...\n",
      "generated/0.5/validation/validation_Torso_Gyr_z.mmap exists, loading ...\n",
      "generated/0.5/validation/validation_Torso_Mag_x.mmap exists, loading ...\n",
      "generated/0.5/validation/validation_Torso_Mag_y.mmap exists, loading ...\n",
      "generated/0.5/validation/validation_Torso_Mag_z.mmap exists, loading ...\n",
      "generated/0.5/validation/validation_Torso_Ori_w.mmap exists, loading ...\n",
      "generated/0.5/validation/validation_Torso_Ori_x.mmap exists, loading ...\n",
      "generated/0.5/validation/validation_Torso_Ori_y.mmap exists, loading ...\n",
      "generated/0.5/validation/validation_Torso_Ori_z.mmap exists, loading ...\n",
      "generated/0.5/validation/validation_Torso_Gra_x.mmap exists, loading ...\n",
      "generated/0.5/validation/validation_Torso_Gra_y.mmap exists, loading ...\n",
      "generated/0.5/validation/validation_Torso_Gra_z.mmap exists, loading ...\n",
      "generated/0.5/validation/validation_Torso_LAcc_x.mmap exists, loading ...\n",
      "generated/0.5/validation/validation_Torso_LAcc_y.mmap exists, loading ...\n",
      "generated/0.5/validation/validation_Torso_LAcc_z.mmap exists, loading ...\n",
      "generated/0.5/validation/validation_Torso_Pressure.mmap exists, loading ...\n",
      "generated/0.5/validation/validation_Torso_Acc_m.mmap exists, loading ...\n",
      "generated/0.5/validation/validation_Torso_Gyr_m.mmap exists, loading ...\n",
      "generated/0.5/validation/validation_Torso_Mag_m.mmap exists, loading ...\n",
      "generated/0.5/validation/validation_Torso_Ori_m.mmap exists, loading ...\n",
      "generated/0.5/validation/validation_Torso_Gra_m.mmap exists, loading ...\n",
      "generated/0.5/validation/validation_Torso_LAcc_m.mmap exists, loading ...\n",
      "generated/0.5/validation/validation_Hips_Acc_x.mmap exists, loading ...\n",
      "generated/0.5/validation/validation_Hips_Acc_y.mmap exists, loading ...\n",
      "generated/0.5/validation/validation_Hips_Acc_z.mmap exists, loading ...\n",
      "generated/0.5/validation/validation_Hips_Gyr_x.mmap exists, loading ...\n",
      "generated/0.5/validation/validation_Hips_Gyr_y.mmap exists, loading ...\n",
      "generated/0.5/validation/validation_Hips_Gyr_z.mmap exists, loading ...\n",
      "generated/0.5/validation/validation_Hips_Mag_x.mmap exists, loading ...\n",
      "generated/0.5/validation/validation_Hips_Mag_y.mmap exists, loading ...\n",
      "generated/0.5/validation/validation_Hips_Mag_z.mmap exists, loading ...\n",
      "generated/0.5/validation/validation_Hips_Ori_w.mmap exists, loading ...\n",
      "generated/0.5/validation/validation_Hips_Ori_x.mmap exists, loading ...\n",
      "generated/0.5/validation/validation_Hips_Ori_y.mmap exists, loading ...\n",
      "generated/0.5/validation/validation_Hips_Ori_z.mmap exists, loading ...\n",
      "generated/0.5/validation/validation_Hips_Gra_x.mmap exists, loading ...\n",
      "generated/0.5/validation/validation_Hips_Gra_y.mmap exists, loading ...\n",
      "generated/0.5/validation/validation_Hips_Gra_z.mmap exists, loading ...\n",
      "generated/0.5/validation/validation_Hips_LAcc_x.mmap exists, loading ...\n",
      "generated/0.5/validation/validation_Hips_LAcc_y.mmap exists, loading ...\n",
      "generated/0.5/validation/validation_Hips_LAcc_z.mmap exists, loading ...\n",
      "generated/0.5/validation/validation_Hips_Pressure.mmap exists, loading ...\n",
      "generated/0.5/validation/validation_Hips_Acc_m.mmap exists, loading ...\n",
      "generated/0.5/validation/validation_Hips_Gyr_m.mmap exists, loading ...\n",
      "generated/0.5/validation/validation_Hips_Mag_m.mmap exists, loading ...\n",
      "generated/0.5/validation/validation_Hips_Ori_m.mmap exists, loading ...\n",
      "generated/0.5/validation/validation_Hips_Gra_m.mmap exists, loading ...\n",
      "generated/0.5/validation/validation_Hips_LAcc_m.mmap exists, loading ...\n",
      "generated/0.5/validation/validation_Bag_Acc_x.mmap exists, loading ...\n",
      "generated/0.5/validation/validation_Bag_Acc_y.mmap exists, loading ...\n",
      "generated/0.5/validation/validation_Bag_Acc_z.mmap exists, loading ...\n",
      "generated/0.5/validation/validation_Bag_Gyr_x.mmap exists, loading ...\n",
      "generated/0.5/validation/validation_Bag_Gyr_y.mmap exists, loading ...\n",
      "generated/0.5/validation/validation_Bag_Gyr_z.mmap exists, loading ...\n",
      "generated/0.5/validation/validation_Bag_Mag_x.mmap exists, loading ...\n",
      "generated/0.5/validation/validation_Bag_Mag_y.mmap exists, loading ...\n",
      "generated/0.5/validation/validation_Bag_Mag_z.mmap exists, loading ...\n",
      "generated/0.5/validation/validation_Bag_Ori_w.mmap exists, loading ...\n",
      "generated/0.5/validation/validation_Bag_Ori_x.mmap exists, loading ...\n",
      "generated/0.5/validation/validation_Bag_Ori_y.mmap exists, loading ...\n",
      "generated/0.5/validation/validation_Bag_Ori_z.mmap exists, loading ...\n",
      "generated/0.5/validation/validation_Bag_Gra_x.mmap exists, loading ...\n",
      "generated/0.5/validation/validation_Bag_Gra_y.mmap exists, loading ...\n",
      "generated/0.5/validation/validation_Bag_Gra_z.mmap exists, loading ...\n",
      "generated/0.5/validation/validation_Bag_LAcc_x.mmap exists, loading ...\n",
      "generated/0.5/validation/validation_Bag_LAcc_y.mmap exists, loading ...\n",
      "generated/0.5/validation/validation_Bag_LAcc_z.mmap exists, loading ...\n",
      "generated/0.5/validation/validation_Bag_Pressure.mmap exists, loading ...\n",
      "generated/0.5/validation/validation_Bag_Acc_m.mmap exists, loading ...\n",
      "generated/0.5/validation/validation_Bag_Gyr_m.mmap exists, loading ...\n",
      "generated/0.5/validation/validation_Bag_Mag_m.mmap exists, loading ...\n",
      "generated/0.5/validation/validation_Bag_Ori_m.mmap exists, loading ...\n",
      "generated/0.5/validation/validation_Bag_Gra_m.mmap exists, loading ...\n",
      "generated/0.5/validation/validation_Bag_LAcc_m.mmap exists, loading ...\n",
      "generated/0.5/validation/validation_Hand_Acc_x.mmap exists, loading ...\n",
      "generated/0.5/validation/validation_Hand_Acc_y.mmap exists, loading ...\n",
      "generated/0.5/validation/validation_Hand_Acc_z.mmap exists, loading ...\n",
      "generated/0.5/validation/validation_Hand_Gyr_x.mmap exists, loading ...\n",
      "generated/0.5/validation/validation_Hand_Gyr_y.mmap exists, loading ...\n",
      "generated/0.5/validation/validation_Hand_Gyr_z.mmap exists, loading ...\n",
      "generated/0.5/validation/validation_Hand_Mag_x.mmap exists, loading ...\n",
      "generated/0.5/validation/validation_Hand_Mag_y.mmap exists, loading ...\n",
      "generated/0.5/validation/validation_Hand_Mag_z.mmap exists, loading ...\n",
      "generated/0.5/validation/validation_Hand_Ori_w.mmap exists, loading ...\n",
      "generated/0.5/validation/validation_Hand_Ori_x.mmap exists, loading ...\n",
      "generated/0.5/validation/validation_Hand_Ori_y.mmap exists, loading ...\n",
      "generated/0.5/validation/validation_Hand_Ori_z.mmap exists, loading ...\n",
      "generated/0.5/validation/validation_Hand_Gra_x.mmap exists, loading ...\n",
      "generated/0.5/validation/validation_Hand_Gra_y.mmap exists, loading ...\n",
      "generated/0.5/validation/validation_Hand_Gra_z.mmap exists, loading ...\n",
      "generated/0.5/validation/validation_Hand_LAcc_x.mmap exists, loading ...\n",
      "generated/0.5/validation/validation_Hand_LAcc_y.mmap exists, loading ...\n",
      "generated/0.5/validation/validation_Hand_LAcc_z.mmap exists, loading ...\n",
      "generated/0.5/validation/validation_Hand_Pressure.mmap exists, loading ...\n",
      "generated/0.5/validation/validation_Hand_Acc_m.mmap exists, loading ...\n",
      "generated/0.5/validation/validation_Hand_Gyr_m.mmap exists, loading ...\n",
      "generated/0.5/validation/validation_Hand_Mag_m.mmap exists, loading ...\n",
      "generated/0.5/validation/validation_Hand_Ori_m.mmap exists, loading ...\n",
      "generated/0.5/validation/validation_Hand_Gra_m.mmap exists, loading ...\n",
      "generated/0.5/validation/validation_Hand_LAcc_m.mmap exists, loading ...\n",
      "generated/0.5/validation/validation_Label.mmap exists, loading ...\n",
      "generated/0.5/test_Acc_x.mmap exists, loading ...\n",
      "generated/0.5/test_Acc_y.mmap exists, loading ...\n",
      "generated/0.5/test_Acc_z.mmap exists, loading ...\n",
      "generated/0.5/test_Gyr_x.mmap exists, loading ...\n",
      "generated/0.5/test_Gyr_y.mmap exists, loading ...\n",
      "generated/0.5/test_Gyr_z.mmap exists, loading ...\n",
      "generated/0.5/test_Mag_x.mmap exists, loading ...\n",
      "generated/0.5/test_Mag_y.mmap exists, loading ...\n",
      "generated/0.5/test_Mag_z.mmap exists, loading ...\n",
      "generated/0.5/test_Ori_w.mmap exists, loading ...\n",
      "generated/0.5/test_Ori_x.mmap exists, loading ...\n",
      "generated/0.5/test_Ori_y.mmap exists, loading ...\n",
      "generated/0.5/test_Ori_z.mmap exists, loading ...\n",
      "generated/0.5/test_Gra_x.mmap exists, loading ...\n",
      "generated/0.5/test_Gra_y.mmap exists, loading ...\n",
      "generated/0.5/test_Gra_z.mmap exists, loading ...\n",
      "generated/0.5/test_LAcc_x.mmap exists, loading ...\n",
      "generated/0.5/test_LAcc_y.mmap exists, loading ...\n",
      "generated/0.5/test_LAcc_z.mmap exists, loading ...\n",
      "generated/0.5/test_Pressure.mmap exists, loading ...\n",
      "generated/0.5/test_Acc_m.mmap exists, loading ...\n",
      "generated/0.5/test_Gyr_m.mmap exists, loading ...\n",
      "generated/0.5/test_Mag_m.mmap exists, loading ...\n",
      "generated/0.5/test_Ori_m.mmap exists, loading ...\n",
      "generated/0.5/test_Gra_m.mmap exists, loading ...\n",
      "generated/0.5/test_LAcc_m.mmap exists, loading ...\n"
     ]
    }
   ],
   "source": [
    "from dataset import DataReader\n",
    "\n",
    "validation = DataReader(what='validation')\n",
    "test = DataReader(what='test')"
   ]
  },
  {
   "cell_type": "markdown",
   "metadata": {},
   "source": [
    "## Zero-crossing rate"
   ]
  },
  {
   "cell_type": "code",
   "execution_count": 2,
   "metadata": {},
   "outputs": [],
   "source": [
    "import acoustics\n",
    "from acoustics.signal import zero_crossings"
   ]
  },
  {
   "cell_type": "code",
   "execution_count": 12,
   "metadata": {},
   "outputs": [
    {
     "data": {
      "text/plain": [
       "array([  4,  58, 110, 117, 124, 127, 141, 151, 154, 159, 175, 197, 202,\n",
       "       210, 213, 217, 220, 230, 235, 240, 258, 272, 275, 286, 288, 291,\n",
       "       293, 303, 305, 313, 320, 327, 328, 343, 349, 359, 361, 363, 367,\n",
       "       374, 381, 386, 395, 400, 403, 417, 421, 432, 435, 436, 440, 449,\n",
       "       467, 472, 476, 491, 494])"
      ]
     },
     "execution_count": 12,
     "metadata": {},
     "output_type": "execute_result"
    }
   ],
   "source": [
    "zero_crossings(validation.X['Hips']['Gyr_x'][100])"
   ]
  },
  {
   "cell_type": "code",
   "execution_count": 5,
   "metadata": {},
   "outputs": [
    {
     "name": "stdout",
     "output_type": "stream",
     "text": [
      "Hips->Acc_x: 19061362959.0\n",
      "Hand->Acc_x: 17780854576.0\n",
      "Torso->Acc_x: 202602696.0\n",
      "Bag->Acc_x : 8649632184.0\n"
     ]
    },
    {
     "ename": "AxisError",
     "evalue": "axis 1 is out of bounds for array of dimension 1",
     "output_type": "error",
     "traceback": [
      "\u001b[0;31m---------------------------------------------------------------------------\u001b[0m",
      "\u001b[0;31mAxisError\u001b[0m                                 Traceback (most recent call last)",
      "\u001b[0;32m<ipython-input-5-1645e6e5e7f7>\u001b[0m in \u001b[0;36m<module>\u001b[0;34m\u001b[0m\n\u001b[1;32m      4\u001b[0m \u001b[0mprint\u001b[0m\u001b[0;34m(\u001b[0m\u001b[0;34m'Torso->{}: {}'\u001b[0m\u001b[0;34m.\u001b[0m\u001b[0mformat\u001b[0m\u001b[0;34m(\u001b[0m\u001b[0mchannel\u001b[0m\u001b[0;34m,\u001b[0m \u001b[0mzero_crossings\u001b[0m\u001b[0;34m(\u001b[0m\u001b[0mvalidation\u001b[0m\u001b[0;34m.\u001b[0m\u001b[0mX\u001b[0m\u001b[0;34m[\u001b[0m\u001b[0;34m'Torso'\u001b[0m\u001b[0;34m]\u001b[0m\u001b[0;34m[\u001b[0m\u001b[0mchannel\u001b[0m\u001b[0;34m]\u001b[0m\u001b[0;34m)\u001b[0m\u001b[0;34m.\u001b[0m\u001b[0msum\u001b[0m\u001b[0;34m(\u001b[0m\u001b[0maxis\u001b[0m\u001b[0;34m=\u001b[0m\u001b[0;36m0\u001b[0m\u001b[0;34m)\u001b[0m\u001b[0;34m.\u001b[0m\u001b[0mmean\u001b[0m\u001b[0;34m(\u001b[0m\u001b[0;34m)\u001b[0m\u001b[0;34m)\u001b[0m\u001b[0;34m)\u001b[0m\u001b[0;34m\u001b[0m\u001b[0;34m\u001b[0m\u001b[0m\n\u001b[1;32m      5\u001b[0m \u001b[0mprint\u001b[0m\u001b[0;34m(\u001b[0m\u001b[0;34m'Bag->{} : {}'\u001b[0m\u001b[0;34m.\u001b[0m\u001b[0mformat\u001b[0m\u001b[0;34m(\u001b[0m\u001b[0mchannel\u001b[0m\u001b[0;34m,\u001b[0m \u001b[0mzero_crossings\u001b[0m\u001b[0;34m(\u001b[0m\u001b[0mvalidation\u001b[0m\u001b[0;34m.\u001b[0m\u001b[0mX\u001b[0m\u001b[0;34m[\u001b[0m\u001b[0;34m'Bag'\u001b[0m\u001b[0;34m]\u001b[0m\u001b[0;34m[\u001b[0m\u001b[0mchannel\u001b[0m\u001b[0;34m]\u001b[0m\u001b[0;34m)\u001b[0m\u001b[0;34m.\u001b[0m\u001b[0msum\u001b[0m\u001b[0;34m(\u001b[0m\u001b[0maxis\u001b[0m\u001b[0;34m=\u001b[0m\u001b[0;36m0\u001b[0m\u001b[0;34m)\u001b[0m\u001b[0;34m.\u001b[0m\u001b[0mmean\u001b[0m\u001b[0;34m(\u001b[0m\u001b[0;34m)\u001b[0m\u001b[0;34m)\u001b[0m\u001b[0;34m)\u001b[0m\u001b[0;34m\u001b[0m\u001b[0;34m\u001b[0m\u001b[0m\n\u001b[0;32m----> 6\u001b[0;31m \u001b[0mprint\u001b[0m\u001b[0;34m(\u001b[0m\u001b[0;34m'TEST->{} : {}'\u001b[0m\u001b[0;34m.\u001b[0m\u001b[0mformat\u001b[0m\u001b[0;34m(\u001b[0m\u001b[0mchannel\u001b[0m\u001b[0;34m,\u001b[0m \u001b[0mzero_crossings\u001b[0m\u001b[0;34m(\u001b[0m\u001b[0mtest\u001b[0m\u001b[0;34m.\u001b[0m\u001b[0mX\u001b[0m\u001b[0;34m[\u001b[0m\u001b[0mchannel\u001b[0m\u001b[0;34m]\u001b[0m\u001b[0;34m)\u001b[0m\u001b[0;34m.\u001b[0m\u001b[0msum\u001b[0m\u001b[0;34m(\u001b[0m\u001b[0maxis\u001b[0m\u001b[0;34m=\u001b[0m\u001b[0;36m1\u001b[0m\u001b[0;34m)\u001b[0m\u001b[0;34m.\u001b[0m\u001b[0mmean\u001b[0m\u001b[0;34m(\u001b[0m\u001b[0;34m)\u001b[0m\u001b[0;34m)\u001b[0m\u001b[0;34m)\u001b[0m\u001b[0;34m\u001b[0m\u001b[0;34m\u001b[0m\u001b[0m\n\u001b[0m",
      "\u001b[0;32m~/miniconda3/envs/tf_gpu/lib/python3.8/site-packages/numpy/core/_methods.py\u001b[0m in \u001b[0;36m_sum\u001b[0;34m(a, axis, dtype, out, keepdims, initial, where)\u001b[0m\n\u001b[1;32m     36\u001b[0m def _sum(a, axis=None, dtype=None, out=None, keepdims=False,\n\u001b[1;32m     37\u001b[0m          initial=_NoValue, where=True):\n\u001b[0;32m---> 38\u001b[0;31m     \u001b[0;32mreturn\u001b[0m \u001b[0mumr_sum\u001b[0m\u001b[0;34m(\u001b[0m\u001b[0ma\u001b[0m\u001b[0;34m,\u001b[0m \u001b[0maxis\u001b[0m\u001b[0;34m,\u001b[0m \u001b[0mdtype\u001b[0m\u001b[0;34m,\u001b[0m \u001b[0mout\u001b[0m\u001b[0;34m,\u001b[0m \u001b[0mkeepdims\u001b[0m\u001b[0;34m,\u001b[0m \u001b[0minitial\u001b[0m\u001b[0;34m,\u001b[0m \u001b[0mwhere\u001b[0m\u001b[0;34m)\u001b[0m\u001b[0;34m\u001b[0m\u001b[0;34m\u001b[0m\u001b[0m\n\u001b[0m\u001b[1;32m     39\u001b[0m \u001b[0;34m\u001b[0m\u001b[0m\n\u001b[1;32m     40\u001b[0m def _prod(a, axis=None, dtype=None, out=None, keepdims=False,\n",
      "\u001b[0;31mAxisError\u001b[0m: axis 1 is out of bounds for array of dimension 1"
     ]
    }
   ],
   "source": [
    "channel = 'Gyr_x'\n",
    "print('Hips->{}: {}'.format(channel, zero_crossings(validation.X['Hips'][channel]).sum(axis=0).mean()))\n",
    "print('Hand->{}: {}'.format(channel, zero_crossings(validation.X['Hand'][channel]).sum(axis=0).mean()))\n",
    "print('Torso->{}: {}'.format(channel, zero_crossings(validation.X['Torso'][channel]).sum(axis=0).mean()))\n",
    "print('Bag->{} : {}'.format(channel, zero_crossings(validation.X['Bag'][channel]).sum(axis=0).mean()))\n",
    "print('TEST->{} : {}'.format(channel, zero_crossings(test.X[channel]).sum(axis=1).mean()))"
   ]
  },
  {
   "cell_type": "markdown",
   "metadata": {},
   "source": [
    "# Computing Energy of Frames: is there any distinction among positions?"
   ]
  },
  {
   "cell_type": "markdown",
   "metadata": {},
   "source": [
    "## _Acc_x_"
   ]
  },
  {
   "cell_type": "code",
   "execution_count": 120,
   "metadata": {},
   "outputs": [
    {
     "data": {
      "text/plain": [
       "Text(0.5, 0.98, 'Hips_Acc_x first 100 frames')"
      ]
     },
     "execution_count": 120,
     "metadata": {},
     "output_type": "execute_result"
    },
    {
     "data": {
      "image/png": "[encoded data removed]",
      "text/plain": [
       "<Figure size 432x288 with 1 Axes>"
      ]
     },
     "metadata": {
      "needs_background": "light"
     },
     "output_type": "display_data"
    }
   ],
   "source": [
    "plt.bar(range(100), height=train.X['Hips']['Acc_x'][:100].sum(axis=1))\n",
    "plt.suptitle('Hips_Acc_x first 100 frames')"
   ]
  },
  {
   "cell_type": "code",
   "execution_count": 123,
   "metadata": {},
   "outputs": [
    {
     "name": "stdout",
     "output_type": "stream",
     "text": [
      "0   999\n",
      "1000   1999\n",
      "2000   2999\n",
      "3000   3999\n",
      "4000   4999\n",
      "5000   5999\n",
      "6000   6999\n",
      "7000   7999\n",
      "8000   8999\n",
      "9000   9999\n"
     ]
    },
    {
     "data": {
      "image/png": "[encoded data removed]",
      "text/plain": [
       "<Figure size 432x288 with 10 Axes>"
      ]
     },
     "metadata": {
      "needs_background": "light"
     },
     "output_type": "display_data"
    }
   ],
   "source": [
    "pos = 'Hips'\n",
    "channel = 'Acc_x'\n",
    "\n",
    "fig, axes = plt.subplots(10, 1)\n",
    "for i, portion in enumerate(np.array_split(range(train.y.shape[0])[:10000], 10)):\n",
    "    print(portion[0], ' ', portion[-1])\n",
    "    axes[i].bar(portion, height=train.X[pos][channel][portion].sum(axis=1))\n",
    "plt.suptitle('Hips_Acc_x first 10000 frames')\n",
    "plt.show()"
   ]
  },
  {
   "cell_type": "code",
   "execution_count": 124,
   "metadata": {},
   "outputs": [
    {
     "data": {
      "image/png": "[encoded data removed]",
      "text/plain": [
       "<Figure size 432x288 with 1 Axes>"
      ]
     },
     "metadata": {
      "needs_background": "light"
     },
     "output_type": "display_data"
    }
   ],
   "source": [
    "plt.bar(range(100), height=train.X['Hand']['Acc_x'][:100].sum(axis=1))\n",
    "plt.suptitle('Hand_Acc_x first 100 frames')\n",
    "plt.show()"
   ]
  },
  {
   "cell_type": "code",
   "execution_count": 125,
   "metadata": {},
   "outputs": [
    {
     "data": {
      "text/plain": [
       "Text(0.5, 0.98, 'Hand_Acc_x first 10000 frames')"
      ]
     },
     "execution_count": 125,
     "metadata": {},
     "output_type": "execute_result"
    },
    {
     "data": {
      "image/png": "[encoded data removed]",
      "text/plain": [
       "<Figure size 432x288 with 10 Axes>"
      ]
     },
     "metadata": {
      "needs_background": "light"
     },
     "output_type": "display_data"
    }
   ],
   "source": [
    "pos = 'Hand'\n",
    "channel = 'Acc_x'\n",
    "\n",
    "fig, axes = plt.subplots(10, 1)\n",
    "for i, portion in enumerate(np.array_split(range(train.y.shape[0])[:10000], 10)):\n",
    "    axes[i].bar(portion, height=train.X[pos][channel][portion].sum(axis=1))\n",
    "plt.suptitle('Hand_Acc_x first 10000 frames')"
   ]
  },
  {
   "cell_type": "code",
   "execution_count": 126,
   "metadata": {},
   "outputs": [
    {
     "data": {
      "text/plain": [
       "Text(0.5, 0.98, 'Torso_Acc_x first 100 frames')"
      ]
     },
     "execution_count": 126,
     "metadata": {},
     "output_type": "execute_result"
    },
    {
     "data": {
      "image/png": "[encoded data removed]",
      "text/plain": [
       "<Figure size 432x288 with 1 Axes>"
      ]
     },
     "metadata": {
      "needs_background": "light"
     },
     "output_type": "display_data"
    }
   ],
   "source": [
    "plt.bar(range(100), height=train.X['Torso']['Acc_x'][:100].sum(axis=1))\n",
    "plt.suptitle('Torso_Acc_x first 100 frames')"
   ]
  },
  {
   "cell_type": "code",
   "execution_count": 127,
   "metadata": {},
   "outputs": [
    {
     "data": {
      "text/plain": [
       "Text(0.5, 0.98, 'Torso_Acc_x first 10000 frames')"
      ]
     },
     "execution_count": 127,
     "metadata": {},
     "output_type": "execute_result"
    },
    {
     "data": {
      "image/png": "[encoded data removed]",
      "text/plain": [
       "<Figure size 432x288 with 10 Axes>"
      ]
     },
     "metadata": {
      "needs_background": "light"
     },
     "output_type": "display_data"
    }
   ],
   "source": [
    "pos = 'Torso'\n",
    "channel = 'Acc_x'\n",
    "\n",
    "fig, axes = plt.subplots(10, 1)\n",
    "for i, portion in enumerate(np.array_split(range(train.y.shape[0])[:1000], 10)):\n",
    "    axes[i].bar(portion, height=train.X[pos][channel][portion].sum(axis=1))\n",
    "plt.suptitle('Torso_Acc_x first 10000 frames')"
   ]
  },
  {
   "cell_type": "code",
   "execution_count": 128,
   "metadata": {},
   "outputs": [
    {
     "data": {
      "text/plain": [
       "Text(0.5, 0.98, 'Bag_Acc_x first 100 frames')"
      ]
     },
     "execution_count": 128,
     "metadata": {},
     "output_type": "execute_result"
    },
    {
     "data": {
      "image/png": "[encoded data removed]",
      "text/plain": [
       "<Figure size 432x288 with 1 Axes>"
      ]
     },
     "metadata": {
      "needs_background": "light"
     },
     "output_type": "display_data"
    }
   ],
   "source": [
    "plt.bar(range(100), height=train.X['Bag']['Acc_x'][:100].sum(axis=1))\n",
    "plt.suptitle('Bag_Acc_x first 100 frames')"
   ]
  },
  {
   "cell_type": "code",
   "execution_count": 129,
   "metadata": {},
   "outputs": [
    {
     "data": {
      "text/plain": [
       "Text(0.5, 0.98, 'Bag_Acc_x first 10000 frames')"
      ]
     },
     "execution_count": 129,
     "metadata": {},
     "output_type": "execute_result"
    },
    {
     "data": {
      "image/png": "[encoded data removed]",
      "text/plain": [
       "<Figure size 432x288 with 10 Axes>"
      ]
     },
     "metadata": {
      "needs_background": "light"
     },
     "output_type": "display_data"
    }
   ],
   "source": [
    "pos = 'Bag'\n",
    "channel = 'Acc_x'\n",
    "\n",
    "fig, axes = plt.subplots(10, 1)\n",
    "for i, portion in enumerate(np.array_split(range(train.y.shape[0])[:1000], 10)):\n",
    "    axes[i].bar(portion, height=train.X[pos][channel][portion].sum(axis=1))\n",
    "plt.suptitle('Bag_Acc_x first 10000 frames')"
   ]
  },
  {
   "cell_type": "code",
   "execution_count": 11,
   "metadata": {},
   "outputs": [
    {
     "data": {
      "image/png": "[encoded data removed]",
      "text/plain": [
       "<Figure size 432x288 with 10 Axes>"
      ]
     },
     "metadata": {
      "needs_background": "light"
     },
     "output_type": "display_data"
    }
   ],
   "source": [
    "channel = 'Acc_x'\n",
    "\n",
    "fig, axes = plt.subplots(10, 1)\n",
    "for i, portion in enumerate(np.array_split(range(train.y.shape[0])[:10000], 10)):\n",
    "    # print(portion[0], ' ', portion[-1])\n",
    "    axes[i].bar(portion, height=test.X[channel][portion].sum(axis=1))\n",
    "plt.suptitle('Test set '+channel+' first 10000 frames')\n",
    "plt.show()"
   ]
  },
  {
   "cell_type": "markdown",
   "metadata": {},
   "source": [
    "## _Mag_y_"
   ]
  },
  {
   "cell_type": "code",
   "execution_count": 7,
   "metadata": {},
   "outputs": [
    {
     "data": {
      "image/png": "[encoded data removed]",
      "text/plain": [
       "<Figure size 432x288 with 10 Axes>"
      ]
     },
     "metadata": {
      "needs_background": "light"
     },
     "output_type": "display_data"
    }
   ],
   "source": [
    "pos = 'Hips'\n",
    "channel = 'Mag_y'\n",
    "\n",
    "fig, axes = plt.subplots(10, 1)\n",
    "for i, portion in enumerate(np.array_split(range(train.y.shape[0])[:10000], 10)):\n",
    "    # print(portion[0], ' ', portion[-1])\n",
    "    axes[i].bar(portion, height=train.X[pos][channel][portion].sum(axis=1))\n",
    "plt.suptitle(pos+'_'+channel+' first 10000 frames')\n",
    "plt.show()"
   ]
  },
  {
   "cell_type": "code",
   "execution_count": 8,
   "metadata": {},
   "outputs": [
    {
     "data": {
      "image/png": "[encoded data removed]",
      "text/plain": [
       "<Figure size 432x288 with 10 Axes>"
      ]
     },
     "metadata": {
      "needs_background": "light"
     },
     "output_type": "display_data"
    }
   ],
   "source": [
    "pos = 'Hand'\n",
    "channel = 'Mag_y'\n",
    "\n",
    "fig, axes = plt.subplots(10, 1)\n",
    "for i, portion in enumerate(np.array_split(range(train.y.shape[0])[:10000], 10)):\n",
    "    # print(portion[0], ' ', portion[-1])\n",
    "    axes[i].bar(portion, height=train.X[pos][channel][portion].sum(axis=1))\n",
    "plt.suptitle(pos+'_'+channel+' first 10000 frames')\n",
    "plt.show()"
   ]
  },
  {
   "cell_type": "code",
   "execution_count": 6,
   "metadata": {},
   "outputs": [
    {
     "data": {
      "image/png": "[encoded data removed]",
      "text/plain": [
       "<Figure size 432x288 with 10 Axes>"
      ]
     },
     "metadata": {
      "needs_background": "light"
     },
     "output_type": "display_data"
    }
   ],
   "source": [
    "pos = 'Torso'\n",
    "channel = 'Mag_y'\n",
    "\n",
    "fig, axes = plt.subplots(10, 1)\n",
    "for i, portion in enumerate(np.array_split(range(train.y.shape[0])[:10000], 10)):\n",
    "    # print(portion[0], ' ', portion[-1])\n",
    "    axes[i].bar(portion, height=train.X[pos][channel][portion].sum(axis=1))\n",
    "plt.suptitle(pos+'_'+channel+' first 10000 frames')\n",
    "plt.show()"
   ]
  },
  {
   "cell_type": "code",
   "execution_count": 9,
   "metadata": {},
   "outputs": [
    {
     "data": {
      "image/png": "[encoded data removed]",
      "text/plain": [
       "<Figure size 432x288 with 10 Axes>"
      ]
     },
     "metadata": {
      "needs_background": "light"
     },
     "output_type": "display_data"
    }
   ],
   "source": [
    "pos = 'Bag'\n",
    "channel = 'Mag_y'\n",
    "\n",
    "fig, axes = plt.subplots(10, 1)\n",
    "for i, portion in enumerate(np.array_split(range(train.y.shape[0])[:10000], 10)):\n",
    "    # print(portion[0], ' ', portion[-1])\n",
    "    axes[i].bar(portion, height=train.X[pos][channel][portion].sum(axis=1))\n",
    "plt.suptitle(pos+'_'+channel+' first 10000 frames')\n",
    "plt.show()"
   ]
  },
  {
   "cell_type": "markdown",
   "metadata": {},
   "source": [
    "### Test set"
   ]
  },
  {
   "cell_type": "code",
   "execution_count": 10,
   "metadata": {},
   "outputs": [
    {
     "data": {
      "image/png": "[encoded data removed]",
      "text/plain": [
       "<Figure size 432x288 with 10 Axes>"
      ]
     },
     "metadata": {
      "needs_background": "light"
     },
     "output_type": "display_data"
    }
   ],
   "source": [
    "channel = 'Mag_y'\n",
    "\n",
    "fig, axes = plt.subplots(10, 1)\n",
    "for i, portion in enumerate(np.array_split(range(train.y.shape[0])[:10000], 10)):\n",
    "    # print(portion[0], ' ', portion[-1])\n",
    "    axes[i].bar(portion, height=test.X[channel][portion].sum(axis=1))\n",
    "plt.suptitle('Test set '+channel+' first 10000 frames')\n",
    "plt.show()"
   ]
  },
  {
   "cell_type": "code",
   "execution_count": null,
   "metadata": {},
   "outputs": [],
   "source": []
  },
  {
   "cell_type": "markdown",
   "metadata": {},
   "source": [
    "## _Mag_m_"
   ]
  },
  {
   "cell_type": "code",
   "execution_count": 131,
   "metadata": {},
   "outputs": [
    {
     "name": "stdout",
     "output_type": "stream",
     "text": [
      "0   999\n",
      "1000   1999\n",
      "2000   2999\n",
      "3000   3999\n",
      "4000   4999\n",
      "5000   5999\n",
      "6000   6999\n",
      "7000   7999\n",
      "8000   8999\n",
      "9000   9999\n"
     ]
    },
    {
     "data": {
      "image/png": "[encoded data removed]",
      "text/plain": [
       "<Figure size 432x288 with 10 Axes>"
      ]
     },
     "metadata": {
      "needs_background": "light"
     },
     "output_type": "display_data"
    }
   ],
   "source": [
    "pos = 'Hips'\n",
    "channel = 'Mag_m'\n",
    "\n",
    "fig, axes = plt.subplots(10, 1)\n",
    "for i, portion in enumerate(np.array_split(range(train.y.shape[0])[:10000], 10)):\n",
    "    print(portion[0], ' ', portion[-1])\n",
    "    axes[i].bar(portion, height=train.X[pos][channel][portion].sum(axis=1))\n",
    "plt.suptitle('Hips_Mag_m first 10000 frames')\n",
    "plt.show()"
   ]
  },
  {
   "cell_type": "code",
   "execution_count": 133,
   "metadata": {},
   "outputs": [
    {
     "data": {
      "image/png": "[encoded data removed]",
      "text/plain": [
       "<Figure size 432x288 with 10 Axes>"
      ]
     },
     "metadata": {
      "needs_background": "light"
     },
     "output_type": "display_data"
    }
   ],
   "source": [
    "pos = 'Hand'\n",
    "channel = 'Mag_m'\n",
    "\n",
    "fig, axes = plt.subplots(10, 1)\n",
    "for i, portion in enumerate(np.array_split(range(train.y.shape[0])[:10000], 10)):\n",
    "    # print(portion[0], ' ', portion[-1])\n",
    "    axes[i].bar(portion, height=train.X[pos][channel][portion].sum(axis=1))\n",
    "plt.suptitle('Hand_Mag_m first 10000 frames')\n",
    "plt.show()"
   ]
  },
  {
   "cell_type": "code",
   "execution_count": 134,
   "metadata": {},
   "outputs": [
    {
     "data": {
      "image/png": "[encoded data removed]",
      "text/plain": [
       "<Figure size 432x288 with 10 Axes>"
      ]
     },
     "metadata": {
      "needs_background": "light"
     },
     "output_type": "display_data"
    }
   ],
   "source": [
    "pos = 'Torso'\n",
    "channel = 'Mag_m'\n",
    "\n",
    "fig, axes = plt.subplots(10, 1)\n",
    "for i, portion in enumerate(np.array_split(range(train.y.shape[0])[:10000], 10)):\n",
    "    # print(portion[0], ' ', portion[-1])\n",
    "    axes[i].bar(portion, height=train.X[pos][channel][portion].sum(axis=1))\n",
    "plt.suptitle(pos+'_'+channel+' first 10000 frames')\n",
    "plt.show()"
   ]
  },
  {
   "cell_type": "code",
   "execution_count": 135,
   "metadata": {},
   "outputs": [
    {
     "data": {
      "image/png": "[encoded data removed]",
      "text/plain": [
       "<Figure size 432x288 with 10 Axes>"
      ]
     },
     "metadata": {
      "needs_background": "light"
     },
     "output_type": "display_data"
    }
   ],
   "source": [
    "pos = 'Bag'\n",
    "channel = 'Mag_m'\n",
    "\n",
    "fig, axes = plt.subplots(10, 1)\n",
    "for i, portion in enumerate(np.array_split(range(train.y.shape[0])[:10000], 10)):\n",
    "    # print(portion[0], ' ', portion[-1])\n",
    "    axes[i].bar(portion, height=train.X[pos][channel][portion].sum(axis=1))\n",
    "plt.suptitle(pos+'_'+channel+' first 10000 frames')\n",
    "plt.show()"
   ]
  },
  {
   "cell_type": "markdown",
   "metadata": {},
   "source": [
    "# Determine Position Based on Extracted Spectral Features"
   ]
  },
  {
   "cell_type": "code",
   "execution_count": 1,
   "metadata": {},
   "outputs": [
    {
     "name": "stdout",
     "output_type": "stream",
     "text": [
      "generated/0.5/validation/validation_Torso_Acc_x.mmap exists, loading ...\n",
      "generated/0.5/validation/validation_Torso_Acc_y.mmap exists, loading ...\n",
      "generated/0.5/validation/validation_Torso_Acc_z.mmap exists, loading ...\n",
      "generated/0.5/validation/validation_Torso_Pressure.mmap exists, loading ...\n",
      "generated/0.5/validation/validation_Torso_Acc_m.mmap exists, loading ...\n",
      "generated/0.5/validation/validation_Torso_Gyr_m.mmap exists, loading ...\n",
      "generated/0.5/validation/validation_Torso_Mag_m.mmap exists, loading ...\n",
      "generated/0.5/validation/validation_Torso_Ori_m.mmap exists, loading ...\n",
      "generated/0.5/validation/validation_Torso_Gra_m.mmap exists, loading ...\n",
      "generated/0.5/validation/validation_Torso_LAcc_m.mmap exists, loading ...\n",
      "generated/0.5/validation/validation_Torso_Acc_x_spectralfeatures.mmap exists, loading ...\n",
      "generated/0.5/validation/validation_Torso_Acc_y_spectralfeatures.mmap exists, loading ...\n",
      "generated/0.5/validation/validation_Torso_Acc_z_spectralfeatures.mmap exists, loading ...\n",
      "generated/0.5/validation/validation_Torso_Mag_spectralfeatures.mmap exists, loading ...\n",
      "generated/0.5/validation/validation_Hips_Acc_x.mmap exists, loading ...\n",
      "generated/0.5/validation/validation_Hips_Acc_y.mmap exists, loading ...\n",
      "generated/0.5/validation/validation_Hips_Acc_z.mmap exists, loading ...\n",
      "generated/0.5/validation/validation_Hips_Pressure.mmap exists, loading ...\n",
      "generated/0.5/validation/validation_Hips_Acc_m.mmap exists, loading ...\n",
      "generated/0.5/validation/validation_Hips_Gyr_m.mmap exists, loading ...\n",
      "generated/0.5/validation/validation_Hips_Mag_m.mmap exists, loading ...\n",
      "generated/0.5/validation/validation_Hips_Ori_m.mmap exists, loading ...\n",
      "generated/0.5/validation/validation_Hips_Gra_m.mmap exists, loading ...\n",
      "generated/0.5/validation/validation_Hips_LAcc_m.mmap exists, loading ...\n",
      "generated/0.5/validation/validation_Hips_Acc_x_spectralfeatures.mmap exists, loading ...\n",
      "generated/0.5/validation/validation_Hips_Acc_y_spectralfeatures.mmap exists, loading ...\n",
      "generated/0.5/validation/validation_Hips_Acc_z_spectralfeatures.mmap exists, loading ...\n",
      "generated/0.5/validation/validation_Hips_Mag_spectralfeatures.mmap exists, loading ...\n",
      "generated/0.5/validation/validation_Bag_Acc_x.mmap exists, loading ...\n",
      "generated/0.5/validation/validation_Bag_Acc_y.mmap exists, loading ...\n",
      "generated/0.5/validation/validation_Bag_Acc_z.mmap exists, loading ...\n",
      "generated/0.5/validation/validation_Bag_Pressure.mmap exists, loading ...\n",
      "generated/0.5/validation/validation_Bag_Acc_m.mmap exists, loading ...\n",
      "generated/0.5/validation/validation_Bag_Gyr_m.mmap exists, loading ...\n",
      "generated/0.5/validation/validation_Bag_Mag_m.mmap exists, loading ...\n",
      "generated/0.5/validation/validation_Bag_Ori_m.mmap exists, loading ...\n",
      "generated/0.5/validation/validation_Bag_Gra_m.mmap exists, loading ...\n",
      "generated/0.5/validation/validation_Bag_LAcc_m.mmap exists, loading ...\n",
      "generated/0.5/validation/validation_Bag_Acc_x_spectralfeatures.mmap exists, loading ...\n",
      "generated/0.5/validation/validation_Bag_Acc_y_spectralfeatures.mmap exists, loading ...\n",
      "generated/0.5/validation/validation_Bag_Acc_z_spectralfeatures.mmap exists, loading ...\n",
      "generated/0.5/validation/validation_Bag_Mag_spectralfeatures.mmap exists, loading ...\n",
      "generated/0.5/validation/validation_Hand_Acc_x.mmap exists, loading ...\n",
      "generated/0.5/validation/validation_Hand_Acc_y.mmap exists, loading ...\n",
      "generated/0.5/validation/validation_Hand_Acc_z.mmap exists, loading ...\n",
      "generated/0.5/validation/validation_Hand_Pressure.mmap exists, loading ...\n",
      "generated/0.5/validation/validation_Hand_Acc_m.mmap exists, loading ...\n",
      "generated/0.5/validation/validation_Hand_Gyr_m.mmap exists, loading ...\n",
      "generated/0.5/validation/validation_Hand_Mag_m.mmap exists, loading ...\n",
      "generated/0.5/validation/validation_Hand_Ori_m.mmap exists, loading ...\n",
      "generated/0.5/validation/validation_Hand_Gra_m.mmap exists, loading ...\n",
      "generated/0.5/validation/validation_Hand_LAcc_m.mmap exists, loading ...\n",
      "generated/0.5/validation/validation_Hand_Acc_x_spectralfeatures.mmap exists, loading ...\n",
      "generated/0.5/validation/validation_Hand_Acc_y_spectralfeatures.mmap exists, loading ...\n",
      "generated/0.5/validation/validation_Hand_Acc_z_spectralfeatures.mmap exists, loading ...\n",
      "generated/0.5/validation/validation_Hand_Mag_spectralfeatures.mmap exists, loading ...\n",
      "generated/0.5/validation/validation_Label.mmap exists, loading ...\n",
      "examples[ Acc_x_spectralfeatures ].shape =  (28789, 60)\n",
      "examples[ Acc_y_spectralfeatures ].shape =  (28789, 60)\n",
      "examples[ Acc_z_spectralfeatures ].shape =  (28789, 60)\n",
      "examples[ Mag_spectralfeatures ].shape =  (28789, 73)\n",
      "examples[ Acc_x_spectralfeatures ].shape =  (57578, 60)\n",
      "examples[ Acc_y_spectralfeatures ].shape =  (57578, 60)\n",
      "examples[ Acc_z_spectralfeatures ].shape =  (57578, 60)\n",
      "examples[ Mag_spectralfeatures ].shape =  (57578, 73)\n",
      "examples[ Acc_x_spectralfeatures ].shape =  (86367, 60)\n",
      "examples[ Acc_y_spectralfeatures ].shape =  (86367, 60)\n",
      "examples[ Acc_z_spectralfeatures ].shape =  (86367, 60)\n",
      "examples[ Mag_spectralfeatures ].shape =  (86367, 73)\n",
      "examples[ Acc_x_spectralfeatures ].shape =  (115156, 60)\n",
      "examples[ Acc_y_spectralfeatures ].shape =  (115156, 60)\n",
      "examples[ Acc_z_spectralfeatures ].shape =  (115156, 60)\n",
      "examples[ Mag_spectralfeatures ].shape =  (115156, 73)\n"
     ]
    }
   ],
   "source": [
    "from dataset import DataReader\n",
    "import numpy as np\n",
    "\n",
    "# validation data\n",
    "def load_data(what='validation'):\n",
    "    data = DataReader(what=what)\n",
    "    data.normalize_NOT_in_place()\n",
    "    \n",
    "    examples = {}\n",
    "    labels = []\n",
    "    for label, position in enumerate(data.smartphone_positions):\n",
    "        for _, channel in data.channels.items():\n",
    "            if channel.endswith('spectralfeatures'):\n",
    "                e = data.X[position][channel]\n",
    "                if channel not in examples:\n",
    "                    examples[channel] = e\n",
    "                else:\n",
    "                    examples[channel] = np.concatenate((examples[channel], e))\n",
    "    \n",
    "                print('examples[',channel,'].shape = ', examples[channel].shape)\n",
    "\n",
    "        labels = np.concatenate((labels,\n",
    "                                np.repeat(label, repeats=e.shape[0], axis=0)))\n",
    "    \n",
    "    return examples, labels\n",
    "\n",
    "valid_dict, valid_labels = load_data(what='validation')"
   ]
  },
  {
   "cell_type": "code",
   "execution_count": 2,
   "metadata": {},
   "outputs": [
    {
     "data": {
      "text/plain": [
       "array([28789, 28789, 28789, 28789])"
      ]
     },
     "execution_count": 2,
     "metadata": {},
     "output_type": "execute_result"
    }
   ],
   "source": [
    "np.bincount(valid_labels.astype(int))"
   ]
  },
  {
   "cell_type": "code",
   "execution_count": 6,
   "metadata": {},
   "outputs": [
    {
     "name": "stdout",
     "output_type": "stream",
     "text": [
      "circuit of channel Acc_x_spectralfeatures\n",
      "circuit of channel Acc_y_spectralfeatures\n",
      "circuit of channel Acc_z_spectralfeatures\n",
      "circuit of channel Mag_spectralfeatures\n"
     ]
    }
   ],
   "source": [
    "import tensorflow as tf\n",
    "\n",
    "from tensorflow import keras\n",
    "from tensorflow.keras import Model, layers, regularizers\n",
    "from tensorflow.keras.callbacks import Callback\n",
    "from tensorflow.keras.layers import (Conv2D, Dense, Dropout, Flatten, MaxPool2D)\n",
    "from tensorflow.keras.optimizers import Adam\n",
    "from tensorflow.keras.utils import to_categorical\n",
    "\n",
    "\n",
    "inputs = []\n",
    "xs = []\n",
    "for _, channel in DataReader.channels.items():\n",
    "    \n",
    "    if channel.endswith('spectralfeatures'):\n",
    "        print('circuit of channel {}'.format(channel))\n",
    "        modality = DataReader.channel_to_modality(channel)\n",
    "    \n",
    "        if channel.startswith('Acc') and channel.endswith('spectralfeatures'):\n",
    "            input_length=60\n",
    "        elif channel == 'Mag_spectralfeatures':\n",
    "            input_length=73\n",
    "        else:\n",
    "            raise Exception('toto')\n",
    "    \n",
    "        # 3D tensor with shape: (batch_size, steps, input_dim)\n",
    "        ts = keras.Input(shape=(input_length,), name=channel)\n",
    "        x = layers.Reshape((input_length, 1))(ts)\n",
    "        \n",
    "        x = layers.Dense(\n",
    "            # 8,  # as the number of classes. In order to be used as output layer during validation and test!\n",
    "            # activation='softmax',\n",
    "            64,\n",
    "            activation='relu',\n",
    "            kernel_regularizer=regularizers.l2(0.001),\n",
    "            bias_regularizer=regularizers.l2(0.001),\n",
    "            activity_regularizer=regularizers.l2(0.001),\n",
    "            # name='view_'+position\n",
    "        )(x)\n",
    "        # x = layers.Dropout(params['All']['dropout']['3'])(x)\n",
    "        x = layers.Dropout(0.5)(x)\n",
    "        \n",
    "        inputs.append(ts)\n",
    "        xs.append(x)\n",
    "\n",
    "x = layers.concatenate(xs, axis=1)\n",
    "class_output = layers.Dense(4, activation='softmax', name='class_output')(x)\n",
    "\n",
    "model = keras.Model(inputs=inputs, outputs=class_output)"
   ]
  },
  {
   "cell_type": "code",
   "execution_count": 7,
   "metadata": {},
   "outputs": [
    {
     "ename": "InternalError",
     "evalue": "Failed copying input tensor from /job:localhost/replica:0/task:0/device:CPU:0 to /job:localhost/replica:0/task:0/device:GPU:0 in order to run GatherV2: Dst tensor is not initialized. [Op:GatherV2]",
     "output_type": "error",
     "traceback": [
      "\u001b[0;31m---------------------------------------------------------------------------\u001b[0m",
      "\u001b[0;31mInternalError\u001b[0m                             Traceback (most recent call last)",
      "\u001b[0;32m<ipython-input-7-0760bde24954>\u001b[0m in \u001b[0;36m<module>\u001b[0;34m\u001b[0m\n\u001b[1;32m      6\u001b[0m              ])\n\u001b[1;32m      7\u001b[0m \u001b[0;34m\u001b[0m\u001b[0m\n\u001b[0;32m----> 8\u001b[0;31m history = model.fit(\n\u001b[0m\u001b[1;32m      9\u001b[0m     \u001b[0mvalid_dict\u001b[0m\u001b[0;34m,\u001b[0m\u001b[0;34m\u001b[0m\u001b[0;34m\u001b[0m\u001b[0m\n\u001b[1;32m     10\u001b[0m     \u001b[0mto_categorical\u001b[0m\u001b[0;34m(\u001b[0m\u001b[0mvalid_labels\u001b[0m\u001b[0;34m,\u001b[0m \u001b[0mnum_classes\u001b[0m\u001b[0;34m=\u001b[0m\u001b[0;36m4\u001b[0m\u001b[0;34m)\u001b[0m\u001b[0;34m,\u001b[0m\u001b[0;34m\u001b[0m\u001b[0;34m\u001b[0m\u001b[0m\n",
      "\u001b[0;32m~/miniconda3/envs/tf_gpu/lib/python3.8/site-packages/tensorflow/python/keras/engine/training.py\u001b[0m in \u001b[0;36m_method_wrapper\u001b[0;34m(self, *args, **kwargs)\u001b[0m\n\u001b[1;32m     64\u001b[0m   \u001b[0;32mdef\u001b[0m \u001b[0m_method_wrapper\u001b[0m\u001b[0;34m(\u001b[0m\u001b[0mself\u001b[0m\u001b[0;34m,\u001b[0m \u001b[0;34m*\u001b[0m\u001b[0margs\u001b[0m\u001b[0;34m,\u001b[0m \u001b[0;34m**\u001b[0m\u001b[0mkwargs\u001b[0m\u001b[0;34m)\u001b[0m\u001b[0;34m:\u001b[0m\u001b[0;34m\u001b[0m\u001b[0;34m\u001b[0m\u001b[0m\n\u001b[1;32m     65\u001b[0m     \u001b[0;32mif\u001b[0m \u001b[0;32mnot\u001b[0m \u001b[0mself\u001b[0m\u001b[0;34m.\u001b[0m\u001b[0m_in_multi_worker_mode\u001b[0m\u001b[0;34m(\u001b[0m\u001b[0;34m)\u001b[0m\u001b[0;34m:\u001b[0m  \u001b[0;31m# pylint: disable=protected-access\u001b[0m\u001b[0;34m\u001b[0m\u001b[0;34m\u001b[0m\u001b[0m\n\u001b[0;32m---> 66\u001b[0;31m       \u001b[0;32mreturn\u001b[0m \u001b[0mmethod\u001b[0m\u001b[0;34m(\u001b[0m\u001b[0mself\u001b[0m\u001b[0;34m,\u001b[0m \u001b[0;34m*\u001b[0m\u001b[0margs\u001b[0m\u001b[0;34m,\u001b[0m \u001b[0;34m**\u001b[0m\u001b[0mkwargs\u001b[0m\u001b[0;34m)\u001b[0m\u001b[0;34m\u001b[0m\u001b[0;34m\u001b[0m\u001b[0m\n\u001b[0m\u001b[1;32m     67\u001b[0m \u001b[0;34m\u001b[0m\u001b[0m\n\u001b[1;32m     68\u001b[0m     \u001b[0;31m# Running inside `run_distribute_coordinator` already.\u001b[0m\u001b[0;34m\u001b[0m\u001b[0;34m\u001b[0m\u001b[0;34m\u001b[0m\u001b[0m\n",
      "\u001b[0;32m~/miniconda3/envs/tf_gpu/lib/python3.8/site-packages/tensorflow/python/keras/engine/training.py\u001b[0m in \u001b[0;36mfit\u001b[0;34m(self, x, y, batch_size, epochs, verbose, callbacks, validation_split, validation_data, shuffle, class_weight, sample_weight, initial_epoch, steps_per_epoch, validation_steps, validation_batch_size, validation_freq, max_queue_size, workers, use_multiprocessing)\u001b[0m\n\u001b[1;32m    793\u001b[0m       \u001b[0;31m# `Tensor` and `NumPy` input.\u001b[0m\u001b[0;34m\u001b[0m\u001b[0;34m\u001b[0m\u001b[0;34m\u001b[0m\u001b[0m\n\u001b[1;32m    794\u001b[0m       (x, y, sample_weight), validation_data = (\n\u001b[0;32m--> 795\u001b[0;31m           data_adapter.train_validation_split((x, y, sample_weight),\n\u001b[0m\u001b[1;32m    796\u001b[0m                                               \u001b[0mvalidation_split\u001b[0m\u001b[0;34m=\u001b[0m\u001b[0mvalidation_split\u001b[0m\u001b[0;34m,\u001b[0m\u001b[0;34m\u001b[0m\u001b[0;34m\u001b[0m\u001b[0m\n\u001b[1;32m    797\u001b[0m                                               shuffle=False))\n",
      "\u001b[0;32m~/miniconda3/envs/tf_gpu/lib/python3.8/site-packages/tensorflow/python/keras/engine/data_adapter.py\u001b[0m in \u001b[0;36mtrain_validation_split\u001b[0;34m(arrays, validation_split, shuffle)\u001b[0m\n\u001b[1;32m   1335\u001b[0m     \u001b[0;32mreturn\u001b[0m \u001b[0marray_ops\u001b[0m\u001b[0;34m.\u001b[0m\u001b[0mgather_v2\u001b[0m\u001b[0;34m(\u001b[0m\u001b[0mt\u001b[0m\u001b[0;34m,\u001b[0m \u001b[0mindices\u001b[0m\u001b[0;34m)\u001b[0m\u001b[0;34m\u001b[0m\u001b[0;34m\u001b[0m\u001b[0m\n\u001b[1;32m   1336\u001b[0m \u001b[0;34m\u001b[0m\u001b[0m\n\u001b[0;32m-> 1337\u001b[0;31m   train_arrays = nest.map_structure(\n\u001b[0m\u001b[1;32m   1338\u001b[0m       functools.partial(_split, indices=train_indices), arrays)\n\u001b[1;32m   1339\u001b[0m   val_arrays = nest.map_structure(\n",
      "\u001b[0;32m~/miniconda3/envs/tf_gpu/lib/python3.8/site-packages/tensorflow/python/util/nest.py\u001b[0m in \u001b[0;36mmap_structure\u001b[0;34m(func, *structure, **kwargs)\u001b[0m\n\u001b[1;32m    615\u001b[0m \u001b[0;34m\u001b[0m\u001b[0m\n\u001b[1;32m    616\u001b[0m   return pack_sequence_as(\n\u001b[0;32m--> 617\u001b[0;31m       \u001b[0mstructure\u001b[0m\u001b[0;34m[\u001b[0m\u001b[0;36m0\u001b[0m\u001b[0;34m]\u001b[0m\u001b[0;34m,\u001b[0m \u001b[0;34m[\u001b[0m\u001b[0mfunc\u001b[0m\u001b[0;34m(\u001b[0m\u001b[0;34m*\u001b[0m\u001b[0mx\u001b[0m\u001b[0;34m)\u001b[0m \u001b[0;32mfor\u001b[0m \u001b[0mx\u001b[0m \u001b[0;32min\u001b[0m \u001b[0mentries\u001b[0m\u001b[0;34m]\u001b[0m\u001b[0;34m,\u001b[0m\u001b[0;34m\u001b[0m\u001b[0;34m\u001b[0m\u001b[0m\n\u001b[0m\u001b[1;32m    618\u001b[0m       expand_composites=expand_composites)\n\u001b[1;32m    619\u001b[0m \u001b[0;34m\u001b[0m\u001b[0m\n",
      "\u001b[0;32m~/miniconda3/envs/tf_gpu/lib/python3.8/site-packages/tensorflow/python/util/nest.py\u001b[0m in \u001b[0;36m<listcomp>\u001b[0;34m(.0)\u001b[0m\n\u001b[1;32m    615\u001b[0m \u001b[0;34m\u001b[0m\u001b[0m\n\u001b[1;32m    616\u001b[0m   return pack_sequence_as(\n\u001b[0;32m--> 617\u001b[0;31m       \u001b[0mstructure\u001b[0m\u001b[0;34m[\u001b[0m\u001b[0;36m0\u001b[0m\u001b[0;34m]\u001b[0m\u001b[0;34m,\u001b[0m \u001b[0;34m[\u001b[0m\u001b[0mfunc\u001b[0m\u001b[0;34m(\u001b[0m\u001b[0;34m*\u001b[0m\u001b[0mx\u001b[0m\u001b[0;34m)\u001b[0m \u001b[0;32mfor\u001b[0m \u001b[0mx\u001b[0m \u001b[0;32min\u001b[0m \u001b[0mentries\u001b[0m\u001b[0;34m]\u001b[0m\u001b[0;34m,\u001b[0m\u001b[0;34m\u001b[0m\u001b[0;34m\u001b[0m\u001b[0m\n\u001b[0m\u001b[1;32m    618\u001b[0m       expand_composites=expand_composites)\n\u001b[1;32m    619\u001b[0m \u001b[0;34m\u001b[0m\u001b[0m\n",
      "\u001b[0;32m~/miniconda3/envs/tf_gpu/lib/python3.8/site-packages/tensorflow/python/keras/engine/data_adapter.py\u001b[0m in \u001b[0;36m_split\u001b[0;34m(t, indices)\u001b[0m\n\u001b[1;32m   1333\u001b[0m       \u001b[0;32mreturn\u001b[0m \u001b[0mt\u001b[0m\u001b[0;34m\u001b[0m\u001b[0;34m\u001b[0m\u001b[0m\n\u001b[1;32m   1334\u001b[0m     \u001b[0mt\u001b[0m \u001b[0;34m=\u001b[0m \u001b[0mops\u001b[0m\u001b[0;34m.\u001b[0m\u001b[0mconvert_to_tensor_v2\u001b[0m\u001b[0;34m(\u001b[0m\u001b[0mt\u001b[0m\u001b[0;34m)\u001b[0m\u001b[0;34m\u001b[0m\u001b[0;34m\u001b[0m\u001b[0m\n\u001b[0;32m-> 1335\u001b[0;31m     \u001b[0;32mreturn\u001b[0m \u001b[0marray_ops\u001b[0m\u001b[0;34m.\u001b[0m\u001b[0mgather_v2\u001b[0m\u001b[0;34m(\u001b[0m\u001b[0mt\u001b[0m\u001b[0;34m,\u001b[0m \u001b[0mindices\u001b[0m\u001b[0;34m)\u001b[0m\u001b[0;34m\u001b[0m\u001b[0;34m\u001b[0m\u001b[0m\n\u001b[0m\u001b[1;32m   1336\u001b[0m \u001b[0;34m\u001b[0m\u001b[0m\n\u001b[1;32m   1337\u001b[0m   train_arrays = nest.map_structure(\n",
      "\u001b[0;32m~/miniconda3/envs/tf_gpu/lib/python3.8/site-packages/tensorflow/python/util/dispatch.py\u001b[0m in \u001b[0;36mwrapper\u001b[0;34m(*args, **kwargs)\u001b[0m\n\u001b[1;32m    178\u001b[0m     \u001b[0;34m\"\"\"Call target, and fall back on dispatchers if there is a TypeError.\"\"\"\u001b[0m\u001b[0;34m\u001b[0m\u001b[0;34m\u001b[0m\u001b[0m\n\u001b[1;32m    179\u001b[0m     \u001b[0;32mtry\u001b[0m\u001b[0;34m:\u001b[0m\u001b[0;34m\u001b[0m\u001b[0;34m\u001b[0m\u001b[0m\n\u001b[0;32m--> 180\u001b[0;31m       \u001b[0;32mreturn\u001b[0m \u001b[0mtarget\u001b[0m\u001b[0;34m(\u001b[0m\u001b[0;34m*\u001b[0m\u001b[0margs\u001b[0m\u001b[0;34m,\u001b[0m \u001b[0;34m**\u001b[0m\u001b[0mkwargs\u001b[0m\u001b[0;34m)\u001b[0m\u001b[0;34m\u001b[0m\u001b[0;34m\u001b[0m\u001b[0m\n\u001b[0m\u001b[1;32m    181\u001b[0m     \u001b[0;32mexcept\u001b[0m \u001b[0;34m(\u001b[0m\u001b[0mTypeError\u001b[0m\u001b[0;34m,\u001b[0m \u001b[0mValueError\u001b[0m\u001b[0;34m)\u001b[0m\u001b[0;34m:\u001b[0m\u001b[0;34m\u001b[0m\u001b[0;34m\u001b[0m\u001b[0m\n\u001b[1;32m    182\u001b[0m       \u001b[0;31m# Note: convert_to_eager_tensor currently raises a ValueError, not a\u001b[0m\u001b[0;34m\u001b[0m\u001b[0;34m\u001b[0m\u001b[0;34m\u001b[0m\u001b[0m\n",
      "\u001b[0;32m~/miniconda3/envs/tf_gpu/lib/python3.8/site-packages/tensorflow/python/ops/array_ops.py\u001b[0m in \u001b[0;36mgather_v2\u001b[0;34m(params, indices, validate_indices, axis, batch_dims, name)\u001b[0m\n\u001b[1;32m   4533\u001b[0m               \u001b[0mbatch_dims\u001b[0m\u001b[0;34m=\u001b[0m\u001b[0;36m0\u001b[0m\u001b[0;34m,\u001b[0m\u001b[0;34m\u001b[0m\u001b[0;34m\u001b[0m\u001b[0m\n\u001b[1;32m   4534\u001b[0m               name=None):\n\u001b[0;32m-> 4535\u001b[0;31m   return gather(\n\u001b[0m\u001b[1;32m   4536\u001b[0m       \u001b[0mparams\u001b[0m\u001b[0;34m,\u001b[0m\u001b[0;34m\u001b[0m\u001b[0;34m\u001b[0m\u001b[0m\n\u001b[1;32m   4537\u001b[0m       \u001b[0mindices\u001b[0m\u001b[0;34m,\u001b[0m\u001b[0;34m\u001b[0m\u001b[0;34m\u001b[0m\u001b[0m\n",
      "\u001b[0;32m~/miniconda3/envs/tf_gpu/lib/python3.8/site-packages/tensorflow/python/util/dispatch.py\u001b[0m in \u001b[0;36mwrapper\u001b[0;34m(*args, **kwargs)\u001b[0m\n\u001b[1;32m    178\u001b[0m     \u001b[0;34m\"\"\"Call target, and fall back on dispatchers if there is a TypeError.\"\"\"\u001b[0m\u001b[0;34m\u001b[0m\u001b[0;34m\u001b[0m\u001b[0m\n\u001b[1;32m    179\u001b[0m     \u001b[0;32mtry\u001b[0m\u001b[0;34m:\u001b[0m\u001b[0;34m\u001b[0m\u001b[0;34m\u001b[0m\u001b[0m\n\u001b[0;32m--> 180\u001b[0;31m       \u001b[0;32mreturn\u001b[0m \u001b[0mtarget\u001b[0m\u001b[0;34m(\u001b[0m\u001b[0;34m*\u001b[0m\u001b[0margs\u001b[0m\u001b[0;34m,\u001b[0m \u001b[0;34m**\u001b[0m\u001b[0mkwargs\u001b[0m\u001b[0;34m)\u001b[0m\u001b[0;34m\u001b[0m\u001b[0;34m\u001b[0m\u001b[0m\n\u001b[0m\u001b[1;32m    181\u001b[0m     \u001b[0;32mexcept\u001b[0m \u001b[0;34m(\u001b[0m\u001b[0mTypeError\u001b[0m\u001b[0;34m,\u001b[0m \u001b[0mValueError\u001b[0m\u001b[0;34m)\u001b[0m\u001b[0;34m:\u001b[0m\u001b[0;34m\u001b[0m\u001b[0;34m\u001b[0m\u001b[0m\n\u001b[1;32m    182\u001b[0m       \u001b[0;31m# Note: convert_to_eager_tensor currently raises a ValueError, not a\u001b[0m\u001b[0;34m\u001b[0m\u001b[0;34m\u001b[0m\u001b[0;34m\u001b[0m\u001b[0m\n",
      "\u001b[0;32m~/miniconda3/envs/tf_gpu/lib/python3.8/site-packages/tensorflow/python/ops/array_ops.py\u001b[0m in \u001b[0;36mgather\u001b[0;34m(***failed resolving arguments***)\u001b[0m\n\u001b[1;32m   4522\u001b[0m     \u001b[0;32mreturn\u001b[0m \u001b[0mparams\u001b[0m\u001b[0;34m.\u001b[0m\u001b[0msparse_read\u001b[0m\u001b[0;34m(\u001b[0m\u001b[0mindices\u001b[0m\u001b[0;34m,\u001b[0m \u001b[0mname\u001b[0m\u001b[0;34m=\u001b[0m\u001b[0mname\u001b[0m\u001b[0;34m)\u001b[0m\u001b[0;34m\u001b[0m\u001b[0;34m\u001b[0m\u001b[0m\n\u001b[1;32m   4523\u001b[0m   \u001b[0;32mexcept\u001b[0m \u001b[0mAttributeError\u001b[0m\u001b[0;34m:\u001b[0m\u001b[0;34m\u001b[0m\u001b[0;34m\u001b[0m\u001b[0m\n\u001b[0;32m-> 4524\u001b[0;31m     \u001b[0;32mreturn\u001b[0m \u001b[0mgen_array_ops\u001b[0m\u001b[0;34m.\u001b[0m\u001b[0mgather_v2\u001b[0m\u001b[0;34m(\u001b[0m\u001b[0mparams\u001b[0m\u001b[0;34m,\u001b[0m \u001b[0mindices\u001b[0m\u001b[0;34m,\u001b[0m \u001b[0maxis\u001b[0m\u001b[0;34m,\u001b[0m \u001b[0mname\u001b[0m\u001b[0;34m=\u001b[0m\u001b[0mname\u001b[0m\u001b[0;34m)\u001b[0m\u001b[0;34m\u001b[0m\u001b[0;34m\u001b[0m\u001b[0m\n\u001b[0m\u001b[1;32m   4525\u001b[0m \u001b[0;34m\u001b[0m\u001b[0m\n\u001b[1;32m   4526\u001b[0m \u001b[0;34m\u001b[0m\u001b[0m\n",
      "\u001b[0;32m~/miniconda3/envs/tf_gpu/lib/python3.8/site-packages/tensorflow/python/ops/gen_array_ops.py\u001b[0m in \u001b[0;36mgather_v2\u001b[0;34m(params, indices, axis, batch_dims, name)\u001b[0m\n\u001b[1;32m   3753\u001b[0m         \u001b[0;32mpass\u001b[0m  \u001b[0;31m# Add nodes to the TensorFlow graph.\u001b[0m\u001b[0;34m\u001b[0m\u001b[0;34m\u001b[0m\u001b[0m\n\u001b[1;32m   3754\u001b[0m     \u001b[0;32mexcept\u001b[0m \u001b[0m_core\u001b[0m\u001b[0;34m.\u001b[0m\u001b[0m_NotOkStatusException\u001b[0m \u001b[0;32mas\u001b[0m \u001b[0me\u001b[0m\u001b[0;34m:\u001b[0m\u001b[0;34m\u001b[0m\u001b[0;34m\u001b[0m\u001b[0m\n\u001b[0;32m-> 3755\u001b[0;31m       \u001b[0m_ops\u001b[0m\u001b[0;34m.\u001b[0m\u001b[0mraise_from_not_ok_status\u001b[0m\u001b[0;34m(\u001b[0m\u001b[0me\u001b[0m\u001b[0;34m,\u001b[0m \u001b[0mname\u001b[0m\u001b[0;34m)\u001b[0m\u001b[0;34m\u001b[0m\u001b[0;34m\u001b[0m\u001b[0m\n\u001b[0m\u001b[1;32m   3756\u001b[0m   \u001b[0;31m# Add nodes to the TensorFlow graph.\u001b[0m\u001b[0;34m\u001b[0m\u001b[0;34m\u001b[0m\u001b[0;34m\u001b[0m\u001b[0m\n\u001b[1;32m   3757\u001b[0m   \u001b[0;32mif\u001b[0m \u001b[0mbatch_dims\u001b[0m \u001b[0;32mis\u001b[0m \u001b[0;32mNone\u001b[0m\u001b[0;34m:\u001b[0m\u001b[0;34m\u001b[0m\u001b[0;34m\u001b[0m\u001b[0m\n",
      "\u001b[0;32m~/miniconda3/envs/tf_gpu/lib/python3.8/site-packages/tensorflow/python/framework/ops.py\u001b[0m in \u001b[0;36mraise_from_not_ok_status\u001b[0;34m(e, name)\u001b[0m\n\u001b[1;32m   6651\u001b[0m   \u001b[0mmessage\u001b[0m \u001b[0;34m=\u001b[0m \u001b[0me\u001b[0m\u001b[0;34m.\u001b[0m\u001b[0mmessage\u001b[0m \u001b[0;34m+\u001b[0m \u001b[0;34m(\u001b[0m\u001b[0;34m\" name: \"\u001b[0m \u001b[0;34m+\u001b[0m \u001b[0mname\u001b[0m \u001b[0;32mif\u001b[0m \u001b[0mname\u001b[0m \u001b[0;32mis\u001b[0m \u001b[0;32mnot\u001b[0m \u001b[0;32mNone\u001b[0m \u001b[0;32melse\u001b[0m \u001b[0;34m\"\"\u001b[0m\u001b[0;34m)\u001b[0m\u001b[0;34m\u001b[0m\u001b[0;34m\u001b[0m\u001b[0m\n\u001b[1;32m   6652\u001b[0m   \u001b[0;31m# pylint: disable=protected-access\u001b[0m\u001b[0;34m\u001b[0m\u001b[0;34m\u001b[0m\u001b[0;34m\u001b[0m\u001b[0m\n\u001b[0;32m-> 6653\u001b[0;31m   \u001b[0msix\u001b[0m\u001b[0;34m.\u001b[0m\u001b[0mraise_from\u001b[0m\u001b[0;34m(\u001b[0m\u001b[0mcore\u001b[0m\u001b[0;34m.\u001b[0m\u001b[0m_status_to_exception\u001b[0m\u001b[0;34m(\u001b[0m\u001b[0me\u001b[0m\u001b[0;34m.\u001b[0m\u001b[0mcode\u001b[0m\u001b[0;34m,\u001b[0m \u001b[0mmessage\u001b[0m\u001b[0;34m)\u001b[0m\u001b[0;34m,\u001b[0m \u001b[0;32mNone\u001b[0m\u001b[0;34m)\u001b[0m\u001b[0;34m\u001b[0m\u001b[0;34m\u001b[0m\u001b[0m\n\u001b[0m\u001b[1;32m   6654\u001b[0m   \u001b[0;31m# pylint: enable=protected-access\u001b[0m\u001b[0;34m\u001b[0m\u001b[0;34m\u001b[0m\u001b[0;34m\u001b[0m\u001b[0m\n\u001b[1;32m   6655\u001b[0m \u001b[0;34m\u001b[0m\u001b[0m\n",
      "\u001b[0;32m~/miniconda3/envs/tf_gpu/lib/python3.8/site-packages/six.py\u001b[0m in \u001b[0;36mraise_from\u001b[0;34m(value, from_value)\u001b[0m\n",
      "\u001b[0;31mInternalError\u001b[0m: Failed copying input tensor from /job:localhost/replica:0/task:0/device:CPU:0 to /job:localhost/replica:0/task:0/device:GPU:0 in order to run GatherV2: Dst tensor is not initialized. [Op:GatherV2]"
     ]
    }
   ],
   "source": [
    "model.compile(\n",
    "    optimizer=keras.optimizers.Adam(learning_rate=1e-3),  # , amsgrad=True),\n",
    "    loss=keras.losses.CategoricalCrossentropy(from_logits=True),\n",
    "    metrics=['acc'\n",
    "             # , lr_metric\n",
    "             ])\n",
    "\n",
    "history = model.fit(\n",
    "    valid_dict,\n",
    "    to_categorical(valid_labels, num_classes=4),\n",
    "    batch_size=256,\n",
    "    epochs=50,\n",
    "    #callbacks=[\n",
    "    #    ReportIntermediates(),\n",
    "    #    cp_callback\n",
    "    #],\n",
    "    validation_split=0.3,\n",
    "    # validation_data=(validation_dict, to_categorical(validation_labels, num_classes=num_classes)),\n",
    "    shuffle=True,\n",
    "    #class_weight={0: 2.,\n",
    "    #              1: 1.,  # give class run 10 times the weight of class 0\n",
    "    #              2: 4.\n",
    "    #              }\n",
    ")"
   ]
  },
  {
   "cell_type": "code",
   "execution_count": null,
   "metadata": {},
   "outputs": [],
   "source": [
    "# SVM classification\n",
    "from sklearn import svm\n",
    "from sklearn.metrics import accuracy_score\n",
    "from sklearn import preprocessing\n",
    "\n",
    "print('standardizing...')\n",
    "scaler = preprocessing.StandardScaler().fit(val_repr)\n",
    "\n",
    "print('training SVM...')\n",
    "clf = svm.LinearSVC(C=10, dual=False)\n",
    "#clf = svm.SVC(kernel='rbf')\n",
    "clf.fit(\n",
    "    #scaler.transform(\n",
    "        train_repr\n",
    "    #)\n",
    "    , train_labels)\n",
    "\n",
    "print('testing...')\n",
    "p = clf.predict(\n",
    "    #scaler.transform(\n",
    "        val_repr\n",
    "    #)\n",
    ")\n",
    "test_acc = accuracy_score(validation_labels, p)\n",
    "print(test_acc)"
   ]
  }
 ],
 "metadata": {
  "kernelspec": {
   "display_name": "Python 3",
   "language": "python",
   "name": "python3"
  },
  "language_info": {
   "codemirror_mode": {
    "name": "ipython",
    "version": 3
   },
   "file_extension": ".py",
   "mimetype": "text/x-python",
   "name": "python",
   "nbconvert_exporter": "python",
   "pygments_lexer": "ipython3",
   "version": "3.8.1"
  }
 },
 "nbformat": 4,
 "nbformat_minor": 4
}
